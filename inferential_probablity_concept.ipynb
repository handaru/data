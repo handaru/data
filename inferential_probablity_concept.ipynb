{
 "cells": [
  {
   "cell_type": "code",
   "execution_count": 25,
   "metadata": {},
   "outputs": [
    {
     "name": "stdout",
     "output_type": "stream",
     "text": [
      "[34, 43, 48, 71, 35]\n"
     ]
    }
   ],
   "source": [
    "import random \n",
    "\n",
    "population = list(range(1, 101)) \n",
    "\n",
    "sample_size = 5 \n",
    "simple_random_sampling = random.sample(population, sample_size) \n",
    "\n",
    "print(simple_random_sampling) "
   ]
  },
  {
   "cell_type": "code",
   "execution_count": 27,
   "metadata": {},
   "outputs": [
    {
     "name": "stdout",
     "output_type": "stream",
     "text": [
      "[ 6 26 46 66 86]\n"
     ]
    }
   ],
   "source": [
    "import numpy as np\n",
    "\n",
    "population = np.arange(1, 101)\n",
    "\n",
    "sample_size = 5\n",
    "sampling_interval = len(population) // sample_size\n",
    "start_point = np.random.randint(0, sampling_interval)\n",
    "systematic_sample = population[start_point::sampling_interval]\n",
    "\n",
    "print(systematic_sample)"
   ]
  },
  {
   "cell_type": "code",
   "execution_count": 5,
   "metadata": {},
   "outputs": [
    {
     "name": "stdout",
     "output_type": "stream",
     "text": [
      "Train dataset:\n",
      " Sex\n",
      "male      403\n",
      "female    220\n",
      "Name: count, dtype: int64\n",
      "Test dataset:\n",
      " Sex\n",
      "male      174\n",
      "female     94\n",
      "Name: count, dtype: int64\n"
     ]
    }
   ],
   "source": [
    "import pandas as pd\n",
    "from sklearn.model_selection import train_test_split\n",
    "\n",
    "data=pd.read_csv('dataset/titanic.csv')\n",
    "\n",
    "stratify_by = 'Sex'\n",
    "\n",
    "train, test = train_test_split(data, test_size=0.3, stratify=data[stratify_by])\n",
    "\n",
    "print(\"Train dataset:\\n\", train[stratify_by].value_counts())\n",
    "print(\"Test dataset:\\n\", test[stratify_by].value_counts())"
   ]
  },
  {
   "cell_type": "code",
   "execution_count": 89,
   "metadata": {},
   "outputs": [
    {
     "name": "stdout",
     "output_type": "stream",
     "text": [
      "[[29, 33, 35, 37], [48, 50, 52, 61], [64, 68, 27]]\n",
      "[[33, 35], [50, 52], [68, 27]]\n"
     ]
    }
   ],
   "source": [
    "import random\n",
    "\n",
    "population_data = [26, 29, 33, 35, 37, 48, 50, 52, 61, 64, 68, 27]\n",
    "\n",
    "cluster_size = 4\n",
    "\n",
    "starting_point = random.randint(0, cluster_size - 1)\n",
    "\n",
    "sampled_data = []\n",
    "\n",
    "for i in range(starting_point, len(population_data) - 1, cluster_size):\n",
    "    sampled_data.append(population_data[i:i + cluster_size])\n",
    "\n",
    "print(sampled_data)\n",
    "\n",
    "group_cluster_size = 2\n",
    "group_starting_point = random.randint(0, group_cluster_size - 1)\n",
    "\n",
    "group_sampled_data = []\n",
    "\n",
    "for i in sampled_data: \n",
    "    for j in range(starting_point, len(i) - 1, group_cluster_size):\n",
    "        group_sampled_data.append(i[j:j + group_cluster_size])\n",
    "\n",
    "print(group_sampled_data)\n",
    "    \n"
   ]
  },
  {
   "cell_type": "code",
   "execution_count": 92,
   "metadata": {},
   "outputs": [
    {
     "name": "stdout",
     "output_type": "stream",
     "text": [
      "[-2.04549484e+00  1.00946642e+00 -4.14850338e-01 -1.44175461e+00\n",
      "  6.50798095e-01 -4.42423332e-01  1.63616074e+00  1.78270253e+00\n",
      " -7.47791214e-01 -2.46038482e-01 -5.87117987e-01  8.98742772e-01\n",
      "  1.22084568e+00 -8.64542426e-01  4.04091052e-01 -8.19054221e-01\n",
      " -4.97133157e-01  6.45409111e-02  1.48917152e-01 -3.72107282e-01\n",
      " -4.05550968e-01 -3.30090997e-01  9.17533729e-01  1.53777801e+00\n",
      " -1.04534777e+00  1.77916735e+00 -9.94117818e-03 -1.03915151e+00\n",
      "  1.10322627e-01 -1.45729819e+00  1.77649675e-01 -3.05658612e-01\n",
      " -7.20873487e-01  4.09901083e-01 -2.84079579e-01 -8.01715962e-01\n",
      " -2.21787662e-01  2.74346564e+00 -1.29195878e-01  3.12570261e-02\n",
      " -1.61634650e-01  1.16374672e+00 -6.02150694e-01 -8.42205269e-01\n",
      "  1.13513630e+00  2.51772524e-01  1.45081286e+00 -8.34011302e-01\n",
      " -1.28695678e+00  4.07634159e-01  1.06124350e+00  2.09310625e-01\n",
      " -3.38552813e-01  8.73707981e-01 -8.03805276e-01 -1.04095631e+00\n",
      " -3.89514429e-01 -6.52286141e-01  1.27947410e+00 -6.19435608e-01\n",
      "  3.88742494e-01 -1.14801625e-01  6.26327714e-01  3.17044876e-02\n",
      " -2.65980227e-01  2.48780029e-01  6.81452271e-01  4.23590071e-01\n",
      " -3.83985632e-01 -9.61699981e-02  1.48858963e+00 -1.23205774e-03\n",
      " -1.51711537e+00 -9.06826163e-01 -2.26679375e+00 -1.38524839e-01\n",
      "  7.19543013e-01 -1.22979968e+00 -2.05216656e+00  9.91528222e-01\n",
      "  1.52759787e-01 -1.29333256e-01  1.06162411e+00  1.14658097e-02\n",
      "  1.02737263e+00 -4.09870852e-01  4.48107412e-01  1.13761954e+00\n",
      " -2.29516786e-01 -4.87558148e-01 -1.22211146e+00 -6.14767286e-01\n",
      "  8.72197768e-01  5.86758089e-01 -1.70832319e+00  9.27949705e-01\n",
      "  8.10530063e-02  2.05378507e+00 -3.86555121e-01 -1.52240574e-01\n",
      "  3.61355713e-01 -3.04254666e-01  3.47741518e-01 -7.84751300e-01\n",
      "  5.31135777e-01 -5.93866424e-01 -1.66713868e+00 -3.81842037e-01\n",
      "  6.79905630e-03  5.27206491e-01 -6.86775440e-01  1.04698784e+00\n",
      " -4.37595716e-01 -2.15245169e+00 -8.17616719e-01 -8.94718553e-01\n",
      "  7.94705682e-01 -4.85320493e-01 -1.81151745e+00  7.79233726e-01\n",
      "  1.73472280e+00  3.10364910e-01  1.21200705e+00 -1.17921818e+00\n",
      " -1.78599294e-01 -4.39876087e-02 -1.06509714e+00 -1.62757632e+00\n",
      " -9.64080606e-01  7.08448857e-01  1.95332408e+00 -2.46413092e+00\n",
      "  3.52688313e-01 -1.33272892e+00 -2.30220475e-01  3.88021107e-01\n",
      "  5.77725759e-01  1.37468186e+00  2.24722445e-01 -1.30273253e+00\n",
      " -4.83955516e-01 -2.70725328e-02  7.38927043e-01  5.08550628e-01\n",
      " -2.85115126e-03 -8.43579908e-01 -5.81696433e-02 -1.01477372e+00\n",
      " -2.63239737e-01  6.72083002e-01 -2.31254715e-01  1.24591669e-01\n",
      " -8.79898275e-01  5.59912888e-02 -1.25381264e-02 -1.82258343e+00\n",
      "  4.02251710e-01 -2.48375829e-01  6.23915910e-02  4.21023824e-01\n",
      " -1.30443800e+00 -9.60318030e-01  5.26131213e-01 -2.07474889e-01\n",
      "  5.01197685e-01 -1.14430846e+00  1.56986760e+00  7.89223241e-01\n",
      " -2.02688752e+00  7.35169460e-01  6.95217832e-01 -1.39392992e+00\n",
      " -1.62887333e+00 -1.93777842e-01  7.68123893e-01 -1.43963126e+00\n",
      " -5.18285084e-01 -1.12747704e+00 -1.71182013e+00  6.92063858e-01\n",
      "  1.03784884e+00 -7.01304726e-01 -3.76249225e-01 -2.60068350e+00\n",
      " -5.14360933e-01  1.32303758e+00 -2.11408827e+00 -8.83998578e-01\n",
      "  7.92067307e-01 -9.35590604e-01 -7.71789259e-01  5.73609908e-02\n",
      "  1.18243773e+00 -1.85171792e-01 -8.31903265e-02 -4.44763052e-01\n",
      " -1.44939565e-01 -1.21197015e+00 -1.72522397e-01 -7.33238860e-01\n",
      " -7.09655305e-01 -6.44590988e-01 -1.07691190e+00 -4.44887098e-01\n",
      "  1.23349151e-02 -1.18477727e+00 -1.33630578e+00  7.51120895e-01\n",
      "  9.45199718e-01 -1.11829715e+00 -6.05467117e-02 -3.21901734e-01\n",
      " -2.87736045e-03 -5.01478324e-01 -2.74629473e-01  5.63507475e-01\n",
      " -1.23655056e+00  1.41225151e+00  6.55086352e-02 -7.59525431e-01\n",
      " -6.93378315e-02 -1.37780988e+00 -7.59787153e-01 -9.28816058e-01\n",
      "  1.82192081e+00  7.11082159e-01 -1.40620904e+00 -1.10413026e+00\n",
      "  5.23644218e-01 -1.17671342e+00  1.08678768e+00  4.54019173e-01\n",
      "  1.24243501e-01 -1.13074198e+00  9.26843610e-01 -1.67448227e-01\n",
      "  1.10720390e+00  7.71051204e-01 -1.90399544e+00  4.85103611e-01\n",
      " -4.61752960e-01  4.03134622e-01 -1.32136432e+00  1.21520526e+00\n",
      " -1.78306662e+00  2.91498372e-01 -6.44658499e-01  5.54092946e-01\n",
      "  1.69383497e+00 -2.36723920e+00 -2.64066682e-01 -1.28145253e+00\n",
      " -1.96126443e+00 -1.21820872e+00  1.16006162e+00 -2.76004204e-01\n",
      " -4.51294473e-01  1.10326008e+00 -2.89323710e-01 -3.67179471e-01\n",
      " -5.76933159e-01  8.41040485e-01  1.49338413e+00 -2.79074206e-02\n",
      " -2.15750514e-02 -2.04674156e-01  2.62725785e-01 -1.39469277e-01\n",
      "  2.63554554e-01 -1.76122977e+00 -6.38301185e-01  1.39047731e+00\n",
      " -1.59009299e+00 -1.58863619e+00  5.43339873e-01 -1.42377210e-01\n",
      "  6.09516045e-01 -5.76027150e-01 -1.02843003e+00  3.50122856e-01\n",
      "  2.01032284e-01  2.09146105e-02 -9.45896525e-01 -2.17611435e-02\n",
      " -1.00769171e+00  3.70120208e-01 -1.47043448e+00  1.25888466e+00\n",
      " -1.79528842e+00 -2.62273201e-01  6.67716353e-01  1.14454097e+00\n",
      " -5.42646556e-01  2.63739078e-01  5.63027511e-01 -1.57973827e+00\n",
      "  2.91393632e-01  4.43694406e-01  1.54052495e+00  1.05630336e+00\n",
      "  3.45740790e-01  8.75885727e-01  2.39411449e+00 -1.77513065e+00\n",
      " -1.99995701e+00 -1.14518052e+00 -6.39091968e-01 -1.21010672e+00\n",
      " -2.28227198e-01  1.06833609e+00 -1.20414701e+00 -1.23344375e+00\n",
      "  1.24214045e+00  1.20955374e+00 -9.25023294e-01  7.37312540e-03\n",
      "  7.56293224e-01 -2.47505314e+00 -3.58444089e-01 -3.28772096e-01\n",
      " -4.79484761e-01  1.38262324e-01  1.02816328e+00 -1.11515811e+00\n",
      "  5.21663570e-01 -2.14841192e-01  1.24310244e+00 -4.65197334e-01\n",
      "  8.11835224e-01 -8.92358676e-01  2.41289314e-01 -1.70246180e+00\n",
      " -5.07243465e-01  1.09486302e+00  9.80837301e-01  1.53512427e+00\n",
      "  3.89683414e-02 -9.86421185e-01 -1.53775211e+00 -4.98410935e-01\n",
      "  6.29126118e-01 -4.64764335e-01  1.29811051e+00 -1.10061196e+00\n",
      " -4.84600166e-02 -4.98146960e-01  1.85269593e+00 -5.61216957e-01\n",
      "  1.55297921e+00  7.84884165e-01  1.22059656e+00  9.10800242e-01\n",
      "  1.12279724e+00  8.31857356e-01 -2.33189005e-01 -4.94220141e-01\n",
      "  8.74852105e-01  1.57452462e+00  1.33807649e+00  1.35729561e-01\n",
      "  6.70885345e-01  5.58332742e-01 -1.20565035e-01 -1.61664179e+00\n",
      " -2.69986907e-01  1.04118118e+00 -6.47147576e-01 -6.17561127e-01\n",
      "  2.62665372e-02 -1.61861589e+00  1.13784806e-01 -5.61564243e-01\n",
      " -7.24841716e-01 -1.39888433e+00  9.35902648e-01 -6.85493314e-01\n",
      " -1.02974774e+00  2.72619242e-01 -5.56797095e-01 -3.84629264e-01\n",
      "  9.64341797e-01 -1.36626318e+00  1.04989961e+00  1.16271329e-01\n",
      " -3.18926307e-01  5.15034521e-01  7.01126861e-01  1.68802569e+00\n",
      "  9.30007503e-01 -2.22937865e+00  1.58189829e+00 -5.31172917e-03\n",
      " -1.28481765e+00  1.27655227e+00  9.96003337e-02 -1.11513133e+00\n",
      "  1.47404981e+00 -1.56195201e-01 -9.50189100e-01  1.27396529e+00\n",
      " -1.39898181e+00  9.61135154e-01 -3.81370082e-01  2.99043945e-01\n",
      "  4.31525959e-01 -2.59336177e+00  2.87765558e-02  4.92162583e-01\n",
      "  4.07365639e-01 -1.24401866e+00 -1.15039578e-01 -8.83266299e-01\n",
      "  1.92909366e+00 -1.06361062e+00  2.36451985e-01  3.06012920e-01\n",
      "  5.59840537e-02  2.38262994e+00  6.56219381e-01  2.72377473e-01\n",
      " -1.56819806e+00  1.28526988e-01  3.32884864e-02  5.51979703e-01\n",
      "  4.75655894e-01 -5.97772393e-01 -1.65451498e+00  1.75494910e+00\n",
      " -1.52381368e+00  6.85698981e-01  2.21445004e+00  6.79730446e-01\n",
      " -1.57216324e+00 -1.32243094e-01 -1.82433167e+00  1.52235340e+00\n",
      "  1.80943473e+00 -1.68893973e+00 -5.29734900e-01 -7.97431979e-01\n",
      " -2.18583854e+00 -1.39551777e-01  7.61848008e-01  7.99203863e-01\n",
      "  8.39472731e-01  6.14744265e-01  1.56992685e-01 -1.95343815e-02\n",
      "  1.06376914e+00 -8.91485375e-02  6.14290317e-02 -8.20396464e-01\n",
      " -1.78986723e+00  1.46461431e+00 -1.69575934e+00 -1.92547301e+00\n",
      "  2.46673255e+00  2.45432936e-01 -3.61311869e-01  1.01756863e+00\n",
      "  1.91610573e-01 -2.68469293e+00 -1.20510540e+00 -4.15707728e-01\n",
      "  1.65661897e+00  1.20192663e-02 -8.27171703e-01  1.59029519e-01\n",
      "  1.71171137e+00 -1.98287375e+00 -4.11964354e-01  6.57907627e-01\n",
      " -1.32150943e+00  8.80162051e-01  8.22595818e-01 -1.30569593e+00\n",
      "  1.40853187e+00  8.82753889e-01 -1.77341809e+00 -1.44392848e+00\n",
      "  1.55506521e+00 -1.97150712e-01  3.05558061e-01 -2.66293028e+00\n",
      "  1.43347107e+00  6.83639927e-01 -1.61325697e-01  2.34676214e-01\n",
      "  7.04370473e-01 -1.50149800e-01  1.35938479e+00 -1.33498330e+00\n",
      " -3.18029502e-01 -2.12399624e-01  4.51722147e-01  3.29447390e-01\n",
      " -1.81812935e+00 -8.57650343e-01  1.36457511e+00 -4.39939156e-01]\n"
     ]
    },
    {
     "data": {
      "image/png": "[encoded data removed]",
      "text/plain": [
       "<Figure size 640x480 with 1 Axes>"
      ]
     },
     "metadata": {},
     "output_type": "display_data"
    }
   ],
   "source": [
    "import numpy as np\n",
    "import matplotlib.pyplot as plt\n",
    "\n",
    "\n",
    "samples = np.random.normal(0, 1, 500)\n",
    "print(samples)\n",
    "\n",
    "plt.hist(samples)\n",
    "plt.show()\n"
   ]
  },
  {
   "cell_type": "code",
   "execution_count": 93,
   "metadata": {},
   "outputs": [
    {
     "name": "stdout",
     "output_type": "stream",
     "text": [
      "The t-statistic is: 4.0\n",
      "The p-value is: 0.003949772803445322\n",
      "The difference in means is statistically significant.\n"
     ]
    }
   ],
   "source": [
    "import numpy as np\n",
    "from scipy.stats import ttest_ind\n",
    "\n",
    "\n",
    "group1 = np.array([5, 6, 7, 8, 9])\n",
    "group2 = np.array([1, 2, 3, 4, 5])\n",
    "\n",
    "t_stat, p_val = ttest_ind(group1, group2)\n",
    "\n",
    "print(\"The t-statistic is:\", t_stat)\n",
    "print(\"The p-value is:\", p_val)\n",
    "\n",
    "# Interpret the results\n",
    "if p_val < 0.05:\n",
    "    print(\"The difference in means is statistically significant.\")\n",
    "else:\n",
    "    print(\"The difference in means is not statistically significant.\")"
   ]
  },
  {
   "cell_type": "code",
   "execution_count": 100,
   "metadata": {},
   "outputs": [
    {
     "name": "stdout",
     "output_type": "stream",
     "text": [
      "[1 0 1 1 1 1 1 0 0 1 0 1 0 1 1 0 0 1 1 1 0 1 0 0 1 1 1 1 0 1 0 0 1 1 0 1 0\n",
      " 0 0 0 1 1 1 0 1 0 0 0 0 1 1 1 0 0 1 0 1 0 1 1 1 0 1 1 1 0 1 0 1 0 1 0 1 0\n",
      " 1 0 0 1 1 0 0 1 0 0 0 0 1 1 1 1 1 1 1 0 1 0 1 0 1 0 1 0 1 1 1 0 1 1 0 0 1\n",
      " 1 1 0 1 1 0 1 0 0 0 0 1 0 0 1 1 0 1 0 0 0 1 0 0 1 1 0 1 1 1 1 0 1 1 0 1 0\n",
      " 0 0 1 0 1 1 0 1 1 1 1 0 0 0 1 0 1 0 0 0 0 1 1 1 1 0 1 0 0 1 1 1 1 0 0 1 0\n",
      " 0 1 1 1 0 0 1 0 0 1 0 0 0 1 0 0 0 1 0 0 0 1 1 0 1 0 0 0 1 1 0 1 0 1 0 1 1\n",
      " 1 1 1 0 0 1 0 0 0 0 0 1 0 0 1 0 0 1 1 0 1 1 0 1 0 0 1 1 0 1 1 1 0 0 1 0 0\n",
      " 0 0 1 0 1 0 0 0 1 0 1 1 1 1 1 0 0 1 1 1 1 0 1 0 1 1 0 0 1 0 0 0 0 1 1 0 0\n",
      " 1 0 1 1 0 1 1 0 1 1 1 1 1 0 1 1 0 0 1 1 1 1 0 0 0 1 1 1 1 1 0 0 0 0 1 0 0\n",
      " 1 1 0 1 1 0 1 1 0 1 0 0 1 0 0 0 0 1 0 0 1 0 0 1 0 0 1 1 0 1 1 0 1 0 1 1 1\n",
      " 0 0 1 1 0 1 0 1 0 1 1 0 1 0 1 1 1 1 0 0 1 0 0 0 0 0 0 0 0 1 1 1 0 1 0 1 1\n",
      " 0 1 1 1 0 0 0 0 0 1 0 0 0 0 1 0 1 1 0 0 0 1 0 1 1 0 0 1 0 1 1 0 0 1 1 0 0\n",
      " 0 0 1 1 1 0 1 0 0 1 1 1 0 1 1 0 1 1 0 1 1 1 1 0 1 0 0 0 1 1 1 0 0 1 1 1 0\n",
      " 1 0 0 0 0 1 1 0 1 0 1 1 1 1 0 1 1 0 0 1 1 0 1 1 1 1 0 1 0 1 1 1 1 0 1 1 1\n",
      " 1 0 0 0 0 1 0 1 1 0 0 1 0 0 0 0 1 0 1 0 0 0 0 0 0 1 0 1 0 0 0 0 0 1 1 0 0\n",
      " 0 0 0 1 1 1 0 1 1 0 0 1 1 0 1 1 1 0 1 0 1 1 1 1 1 1 1 1 1 1 1 0 0 1 1 1 0\n",
      " 0 0 0 1 1 0 0 1 0 1 1 0 1 1 1 1 1 0 0 1 1 1 1 0 0 1 1 1 1 0 0 0 0 1 0 0 0\n",
      " 0 0 1 1 1 0 0 1 1 0 1 0 0 0 0 0 0 0 0 0 0 0 1 1 0 1 0 0 1 1 1 1 0 1 0 0 1\n",
      " 1 0 1 1 0 1 0 1 0 0 0 0 1 0 1 1 0 1 1 0 1 0 0 0 0 1 0 0 0 1 1 0 1 1 0 1 0\n",
      " 1 1 0 1 1 1 1 0 1 0 0 1 0 1 0 0 0 1 0 0 0 0 0 0 1 1 1 0 0 1 0 0 0 0 0 1 1\n",
      " 0 1 1 0 1 1 1 0 0 1 1 0 1 1 0 0 0 1 1 0 0 1 0 1 0 1 0 1 1 1 0 0 1 0 1 1 0\n",
      " 1 1 0 1 0 0 0 1 1 1 1 0 0 1 1 1 0 0 1 0 0 1 0 1 0 1 1 0 0 0 0 0 0 1 1 0 1\n",
      " 0 0 0 1 1 1 1 1 1 0 0 0 0 0 1 0 1 1 1 0 1 0 0 1 1 1 0 1 0 1 0 1 0 1 1 0 0\n",
      " 1 1 0 0 1 1 1 1 0 0 0 1 1 1 0 1 1 1 1 1 0 0 1 1 1 1 1 1 0 1 1 1 1 0 1 1 1\n",
      " 0 0 0 1 1 0 0 1 0 1 0 1 1 1 0 1 1 1 1 0 1 0 0 0 0 1 1 1 1 1 1 0 1 0 0 1 0\n",
      " 0 0 0 1 1 0 0 1 1 1 1 0 0 1 1 0 1 0 1 1 0 1 0 0 1 0 0 0 0 1 0 0 1 0 1 0 0\n",
      " 0 1 0 0 1 1 1 1 0 1 0 1 0 0 1 0 1 0 1 1 1 1 1 0 1 1 1 0 0 0 0 1 0 0 1 0 1\n",
      " 1]\n",
      "0.485\n"
     ]
    }
   ],
   "source": [
    "import numpy as np\n",
    "\n",
    "coin_flips = np.random.randint(0, 2, 1000)\n",
    "tails_count = np.sum(coin_flips == 0)\n",
    "empirical_probability = tails_count / 1000\n",
    "\n",
    "print(coin_flips)\n",
    "print(empirical_probability)\n"
   ]
  },
  {
   "cell_type": "code",
   "execution_count": 101,
   "metadata": {},
   "outputs": [
    {
     "name": "stdout",
     "output_type": "stream",
     "text": [
      "0.25\n"
     ]
    }
   ],
   "source": [
    "num_face_cards = 12\n",
    "num_red_face_cards = 3\n",
    "\n",
    "# Probability of drawing a face card\n",
    "probability_face_card = num_face_cards / 52\n",
    "\n",
    "# Probability of drawing a red face card\n",
    "probability_red_face_card = num_red_face_cards / 52\n",
    "\n",
    "probability_red_given_face = num_red_face_cards / num_face_cards\n",
    "\n",
    "print(probability_red_given_face)\n"
   ]
  },
  {
   "cell_type": "code",
   "execution_count": 104,
   "metadata": {},
   "outputs": [
    {
     "data": {
      "text/plain": [
       "(2.962098014195961, 4.837901985804038)"
      ]
     },
     "execution_count": 104,
     "metadata": {},
     "output_type": "execute_result"
    }
   ],
   "source": [
    "import numpy as np \n",
    "import scipy.stats as st \n",
    "\n",
    "dataset = [1, 1, 1, 2, 2, 2, 3, 3, 3, 3, 3, 4, 4, 5, 5, 5, 6, 7, 8, 10] \n",
    "  \n",
    "# create 90% confidence interval \n",
    "st.t.interval(0.90, df=len(dataset)-1, \n",
    "              loc=np.mean(dataset), \n",
    "              scale=st.sem(dataset))"
   ]
  },
  {
   "cell_type": "code",
   "execution_count": 107,
   "metadata": {},
   "outputs": [
    {
     "name": "stdout",
     "output_type": "stream",
     "text": [
      "[5 5 8 5 9 9 5 7 5 6 8 7 6 6 9 5 8 5 7 7 5 5 6 9 6 7 8 8 7 5 5 6 6 7 5 9 9\n",
      " 6 8 5 8 6 7 5 9 5 6 9 5 9 7 7 6 6 6 6 6 7 8 8 6 6 8 5 8 5 5 6 5 9 8 7 8 8\n",
      " 6 8 9 7 5 7 6 7 6 7 9 8 5 6 7 9 5 5 8 7 6 7 7 7 7 6]\n"
     ]
    },
    {
     "data": {
      "text/plain": [
       "(6.487844787088516, 6.932155212911484)"
      ]
     },
     "execution_count": 107,
     "metadata": {},
     "output_type": "execute_result"
    }
   ],
   "source": [
    "dataset = np.random.randint(5, 10, 100) \n",
    "\n",
    "print(dataset)\n",
    "  \n",
    "# create 90% confidence interval \n",
    "# for population mean weight \n",
    "st.norm.interval(0.90, \n",
    "                 loc=np.mean(dataset), \n",
    "                 scale=st.sem(dataset)) "
   ]
  }
 ],
 "metadata": {
  "kernelspec": {
   "display_name": "dbt-env",
   "language": "python",
   "name": "python3"
  },
  "language_info": {
   "codemirror_mode": {
    "name": "ipython",
    "version": 3
   },
   "file_extension": ".py",
   "mimetype": "text/x-python",
   "name": "python",
   "nbconvert_exporter": "python",
   "pygments_lexer": "ipython3",
   "version": "3.12.4"
  }
 },
 "nbformat": 4,
 "nbformat_minor": 2
}
