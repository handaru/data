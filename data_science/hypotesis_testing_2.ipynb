{
 "cells": [
  {
   "cell_type": "markdown",
   "metadata": {},
   "source": [
    "### Generate Samples"
   ]
  },
  {
   "cell_type": "code",
   "execution_count": 3,
   "metadata": {},
   "outputs": [
    {
     "name": "stdout",
     "output_type": "stream",
     "text": [
      "40.68\n",
      "42.8\n"
     ]
    }
   ],
   "source": [
    "import numpy as np\n",
    "import scipy.stats as stats\n",
    "\n",
    "\n",
    "# Generate random values from Poisson distribution for East Java\n",
    "np.random.seed(6)\n",
    "east_java_ages1 = stats.poisson.rvs(loc=18, mu=30, size=30)\n",
    "east_java_ages2 = stats.poisson.rvs(loc=18, mu=10, size=20)\n",
    "east_java_ages = np.concatenate((east_java_ages1, east_java_ages2))\n",
    "\n",
    "# Generate random values from Poisson distribution for West Java\n",
    "np.random.seed(12)\n",
    "west_java_ages1 = stats.poisson.rvs(loc=18, mu=33, size=30)\n",
    "west_java_ages2 = stats.poisson.rvs(loc=18, mu=13, size=20)\n",
    "west_java_ages = np.concatenate((west_java_ages1, west_java_ages2))\n",
    "\n",
    "print( east_java_ages.mean() )\n",
    "print( west_java_ages.mean() )"
   ]
  },
  {
   "cell_type": "markdown",
   "metadata": {},
   "source": [
    "### Do Two-Sample T-Test"
   ]
  },
  {
   "cell_type": "code",
   "execution_count": 4,
   "metadata": {},
   "outputs": [
    {
     "data": {
      "text/plain": [
       "TtestResult(statistic=-0.9745088195709343, pvalue=0.33221768005728836, df=97.41454338473416)"
      ]
     },
     "execution_count": 4,
     "metadata": {},
     "output_type": "execute_result"
    }
   ],
   "source": [
    "stats.ttest_ind(a= east_java_ages,\n",
    "                b= west_java_ages,\n",
    "                equal_var=False)    # Assume samples have equal variance false"
   ]
  },
  {
   "cell_type": "markdown",
   "metadata": {},
   "source": [
    "* pvalue = 0.33 means 33% chance we'd see sample data this far apart if the two groups tested are actually identical.\n",
    "* Even if we were using a 70% confidence level we would fail to reject (accept) the null hypothesis, since the p-value is greater than the corresponding significance level of 30%. "
   ]
  }
 ],
 "metadata": {
  "kernelspec": {
   "display_name": ".venv",
   "language": "python",
   "name": "python3"
  },
  "language_info": {
   "codemirror_mode": {
    "name": "ipython",
    "version": 3
   },
   "file_extension": ".py",
   "mimetype": "text/x-python",
   "name": "python",
   "nbconvert_exporter": "python",
   "pygments_lexer": "ipython3",
   "version": "3.12.4"
  }
 },
 "nbformat": 4,
 "nbformat_minor": 2
}
