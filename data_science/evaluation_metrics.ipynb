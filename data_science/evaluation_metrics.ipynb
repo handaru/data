{
 "cells": [
  {
   "cell_type": "code",
   "execution_count": 17,
   "metadata": {},
   "outputs": [
    {
     "name": "stdout",
     "output_type": "stream",
     "text": [
      "0.9486081370449679\n",
      "1.0\n",
      "0.0\n"
     ]
    }
   ],
   "source": [
    "# R-Squared\n",
    "from sklearn.metrics import r2_score\n",
    "\n",
    "y_true1 = [3, -0.5, 2, 7]\n",
    "y_pred1 = [2.5, 0.0, 2, 8]\n",
    "sample1 = r2_score(y_true1, y_pred1)\n",
    "print(sample1)\n",
    "\n",
    "y_true2 = [1, 2, 3]\n",
    "y_pred2 = [1, 2, 3]\n",
    "sample2 = r2_score(y_true2, y_pred2)\n",
    "print(sample2)\n",
    "\n",
    "y_true3 = [1, 2, 3]\n",
    "y_pred3 = [2, 2, 2]\n",
    "sample3 = r2_score(y_true3, y_pred3)\n",
    "print(sample3)"
   ]
  },
  {
   "cell_type": "code",
   "execution_count": 18,
   "metadata": {},
   "outputs": [
    {
     "name": "stdout",
     "output_type": "stream",
     "text": [
      "29.1875\n",
      "1.5\n",
      "0.9486081370449679\n"
     ]
    }
   ],
   "source": [
    "# Detail explanation (without loop or matrix)\n",
    "\n",
    "import numpy as np\n",
    "\n",
    "mean_of_data = np.mean(y_true1)\n",
    "ss_tot = np.square(3-mean_of_data) +  np.square(-0.5-mean_of_data) + np.square(2-mean_of_data) + np.square(7-mean_of_data)\n",
    "ss_res = np.square(3-2.5) +  np.square(-0.5-0) + np.square(2-2) + np.square(7-8)\n",
    "\n",
    "r2 = 1 - (ss_res/ss_tot)\n",
    "\n",
    "print(ss_tot)\n",
    "print(ss_res)\n",
    "\n",
    "print(r2)"
   ]
  },
  {
   "cell_type": "code",
   "execution_count": 19,
   "metadata": {},
   "outputs": [
    {
     "name": "stdout",
     "output_type": "stream",
     "text": [
      "29.1875\n",
      "1.5\n",
      "0.9486081370449679\n"
     ]
    }
   ],
   "source": [
    "# Detail explanation (with matrix)\n",
    "\n",
    "y_true1_mean = [mean_of_data, mean_of_data, mean_of_data, mean_of_data]  \n",
    "y_true1_square = np.square(np.array(y_true1) - np.array(y_true1_mean))\n",
    "\n",
    "ss_tot = np.sum(y_true1_square)\n",
    "print(ss_tot)\n",
    "\n",
    "y_res_square = np.square(np.array(y_true1) - np.array(y_pred1))\n",
    "ss_res = np.sum(y_res_square)\n",
    "print(ss_res)\n",
    "\n",
    "r2 = 1 - (ss_res/ss_tot)\n",
    "\n",
    "print(r2)"
   ]
  },
  {
   "cell_type": "code",
   "execution_count": 20,
   "metadata": {},
   "outputs": [
    {
     "name": "stdout",
     "output_type": "stream",
     "text": [
      "0.5\n",
      "0.0\n",
      "0.6666666666666666\n"
     ]
    }
   ],
   "source": [
    "# MAE\n",
    "from sklearn.metrics import mean_absolute_error\n",
    "\n",
    "sample1 = mean_absolute_error(y_true1, y_pred1)\n",
    "print(sample1)\n",
    "\n",
    "sample2 = mean_absolute_error(y_true2, y_pred2)\n",
    "print(sample2)\n",
    "\n",
    "sample3 = mean_absolute_error(y_true3, y_pred3)\n",
    "print(sample3)"
   ]
  },
  {
   "cell_type": "code",
   "execution_count": 21,
   "metadata": {},
   "outputs": [
    {
     "name": "stdout",
     "output_type": "stream",
     "text": [
      "0.375\n",
      "0.0\n",
      "0.6666666666666666\n"
     ]
    }
   ],
   "source": [
    "# MSE\n",
    "from sklearn.metrics import mean_squared_error\n",
    "\n",
    "sample1 = mean_squared_error(y_true1, y_pred1)\n",
    "print(sample1)\n",
    "\n",
    "sample2 = mean_squared_error(y_true2, y_pred2)\n",
    "print(sample2)\n",
    "\n",
    "sample3 = mean_squared_error(y_true3, y_pred3)\n",
    "print(sample3)"
   ]
  },
  {
   "cell_type": "code",
   "execution_count": 22,
   "metadata": {},
   "outputs": [
    {
     "name": "stdout",
     "output_type": "stream",
     "text": [
      "confusion_matrix: [[10  0  0]\n",
      " [ 0  7  2]\n",
      " [ 0  0 11]]\n",
      "\n",
      "accuracy_score: 0.9333333333333333\n",
      "\n",
      "recall_score: [1.         0.77777778 1.        ]\n",
      "\n",
      "precision_score: [1.         1.         0.84615385]\n"
     ]
    }
   ],
   "source": [
    "import numpy as np\n",
    "y_true = np.array([1., 0., 2., 1., 1., 0., 1., 2., 1., 1., 2., 0., 0., 0., 0., 1., 2.,\n",
    "       1., 1., 2., 0., 2., 0., 2., 2., 2., 2., 2., 0., 0.])\n",
    "\n",
    "y_pred = np.array([2., 0., 2., 1., 1., 0., 1., 2., 1., 1., 2., 0., 0., 0., 0., 1., 2.,\n",
    "       1., 2., 2., 0., 2., 0., 2., 2., 2., 2., 2., 0., 0.])\n",
    "\n",
    "# Confusion Matrix\n",
    "from sklearn.metrics import confusion_matrix\n",
    "cm_sample = confusion_matrix(y_true, y_pred)\n",
    "print(f'confusion_matrix: {cm_sample}\\n')\n",
    "\n",
    "\n",
    "# Accuracy\n",
    "from sklearn.metrics import accuracy_score\n",
    "as_sample = accuracy_score(y_true, y_pred) \n",
    "print(f'accuracy_score: {as_sample}\\n') \n",
    "\n",
    "\n",
    "# Recall\n",
    "from sklearn.metrics import recall_score\n",
    "rs_sample = recall_score(y_true, y_pred, average=None) \n",
    "print(f'recall_score: {rs_sample}\\n')\n",
    "\n",
    "# Precision\n",
    "from sklearn.metrics import precision_score\n",
    "pc_sample = precision_score(y_true, y_pred, average=None)\n",
    "print(f'precision_score: {pc_sample}')"
   ]
  }
 ],
 "metadata": {
  "kernelspec": {
   "display_name": ".venv",
   "language": "python",
   "name": "python3"
  },
  "language_info": {
   "codemirror_mode": {
    "name": "ipython",
    "version": 3
   },
   "file_extension": ".py",
   "mimetype": "text/x-python",
   "name": "python",
   "nbconvert_exporter": "python",
   "pygments_lexer": "ipython3",
   "version": "3.12.4"
  }
 },
 "nbformat": 4,
 "nbformat_minor": 2
}
