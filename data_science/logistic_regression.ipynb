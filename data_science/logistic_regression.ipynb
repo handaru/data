{
 "cells": [
  {
   "cell_type": "code",
   "execution_count": 1,
   "metadata": {},
   "outputs": [
    {
     "name": "stdout",
     "output_type": "stream",
     "text": [
      "[[-6.95396909e-01 -2.76067800e-03  9.23258362e-02  1.65236843e+00\n",
      "   1.00669971e+00]\n",
      " [ 1.73239851e+00  4.44870074e-02  6.87601973e-02 -1.66459943e+00\n",
      "  -1.36964404e+00]\n",
      " [ 7.64105665e-01 -1.70268403e-01 -6.50739220e-01  1.55566043e-01\n",
      "   1.54389616e+00]\n",
      " [-1.49585236e+00  8.52212426e-03  1.35307760e-01  1.63982779e+00\n",
      "   9.03065637e-01]\n",
      " [ 1.12837333e+00 -5.01737419e-02 -2.12631264e-01 -2.88934583e-01\n",
      "   2.55753195e-01]\n",
      " [ 4.08058166e-01 -5.28650653e-03 -7.28888781e-02 -8.40080397e-01\n",
      "  -4.54791315e-01]\n",
      " [ 3.86352130e-02  5.62105627e-02  3.79267160e-01  2.58577374e+00\n",
      "   1.05942202e+00]\n",
      " [ 1.80833313e-01  1.47971115e-02  4.98991193e-02 -1.20216409e-01\n",
      "  -1.97657013e-01]\n",
      " [-2.10156563e-01  3.74749350e-02  1.04029548e-01 -6.62794597e-01\n",
      "  -7.13795194e-01]\n",
      " [ 1.55593792e+00  1.38986761e-01  6.52487837e-01  1.81835168e+00\n",
      "  -1.02765917e-01]\n",
      " [ 2.12370287e-01  1.28724368e-01  5.87853291e-01  1.42017212e+00\n",
      "  -2.52210357e-01]\n",
      " [-4.08650312e-01 -7.76976486e-02 -3.22357376e-01 -3.36500300e-01\n",
      "   4.62059560e-01]\n",
      " [-8.52951280e-01  1.90460593e-01  8.04421123e-01  1.05299344e+00\n",
      "  -9.96910814e-01]\n",
      " [ 1.40127689e+00  5.21071527e-01  2.20595202e+00  2.96385359e+00\n",
      "  -2.67799946e+00]\n",
      " [ 1.37459323e+00  2.46472580e-01  8.98183947e-01 -9.27547366e-01\n",
      "  -2.65277829e+00]\n",
      " [-7.99794891e-02 -3.27429248e-03  2.25686418e-03  2.39871007e-01\n",
      "   1.70633969e-01]\n",
      " [-1.96601472e+00 -1.25923788e-01 -5.26631079e-01 -6.12554291e-01\n",
      "   7.08875812e-01]\n",
      " [-4.51042909e-01 -1.17596502e-03 -9.47013278e-02 -1.44558554e+00\n",
      "  -8.50107612e-01]\n",
      " [ 5.16559632e-01  1.83572554e-01  6.68639926e-01 -6.96075168e-01\n",
      "  -1.97890394e+00]\n",
      " [ 8.79898996e-01 -8.44743220e-04 -1.05769339e-01 -1.64368820e+00\n",
      "  -9.70803047e-01]\n",
      " [-3.49447958e-01 -1.13373980e-01 -5.39382747e-01 -1.59771529e+00\n",
      "   1.57276012e-02]\n",
      " [ 7.18274389e-01  7.34417680e-02  1.90075791e-01 -1.52017811e+00\n",
      "  -1.53051710e+00]\n",
      " [ 1.00598199e+00 -8.48546730e-02 -3.03079961e-01  4.17856706e-01\n",
      "   9.71911137e-01]\n",
      " [-3.29566539e-01  1.53816908e-01  7.82771652e-01  2.98521927e+00\n",
      "   4.65117502e-01]\n",
      " [-6.81148429e-01 -3.40949765e-01 -1.44552634e+00 -1.97329307e+00\n",
      "   1.73206684e+00]\n",
      " [ 1.53179086e+00  9.16595600e-02  5.14816235e-01  2.55448503e+00\n",
      "   7.38644965e-01]\n",
      " [-4.01176818e-01 -2.55803471e-02 -2.77343459e-02  1.14644683e+00\n",
      "   9.00183851e-01]\n",
      " [-5.08380228e-01 -2.10304140e-02  1.04258594e-02  1.47539793e+00\n",
      "   1.05712884e+00]\n",
      " [-1.23313682e+00  1.83591840e-02  3.17425590e-02 -6.32974096e-01\n",
      "  -5.33113028e-01]\n",
      " [ 6.13532628e-01  1.70725399e-01  6.23686241e-01 -6.17845357e-01\n",
      "  -1.82285022e+00]\n",
      " [-8.90975732e-01  1.99831515e-01  8.71270921e-01  1.54215331e+00\n",
      "  -7.85733861e-01]\n",
      " [ 3.02902035e-01 -2.20957404e-01 -9.17542728e-01 -9.70083551e-01\n",
      "   1.30619131e+00]\n",
      " [ 1.84284758e-01 -7.05385039e-02 -2.25150387e-01  7.77085062e-01\n",
      "   1.06362584e+00]\n",
      " [ 1.14922180e-01  7.05310264e-02  3.76219939e-01  1.64610047e+00\n",
      "   3.78246542e-01]\n",
      " [ 6.73801492e-01 -7.16115807e-02 -2.72654967e-01  8.19992190e-02\n",
      "   6.59192648e-01]\n",
      " [-1.20740046e+00 -5.59893351e-01 -2.32295638e+00 -2.42535425e+00\n",
      "   3.32931891e+00]\n",
      " [-6.76900945e-01 -2.13382835e-01 -8.85623870e-01 -9.29373184e-01\n",
      "   1.26585011e+00]\n",
      " [ 8.50386871e-01 -2.21828285e-01 -9.15633823e-01 -8.85297065e-01\n",
      "   1.36406295e+00]\n",
      " [-5.93601804e-01  1.99473917e-01  1.01505432e+00  3.87026911e+00\n",
      "   6.02555868e-01]\n",
      " [-1.71114995e-01 -9.73302462e-02 -3.57552692e-01  3.20314229e-01\n",
      "   1.02021210e+00]\n",
      " [ 6.49790336e-01 -2.42676318e-02 -2.99004651e-02  1.03005105e+00\n",
      "   8.19738406e-01]\n",
      " [-1.10457461e+00  2.78779454e-01  1.12972534e+00  7.76059926e-01\n",
      "  -1.91449991e+00]\n",
      " [-1.41622753e+00 -1.25858810e-02 -1.15234208e-01 -1.06511981e+00\n",
      "  -5.26472599e-01]\n",
      " [ 8.95104377e-01 -1.75110479e-01 -7.04911384e-01 -4.11997978e-01\n",
      "   1.24746534e+00]\n",
      " [ 1.02645497e+00 -3.65915484e-01 -1.54573482e+00 -2.02735555e+00\n",
      "   1.91270211e+00]\n",
      " [-1.16829028e+00 -1.98850366e-01 -8.25850284e-01 -8.74769539e-01\n",
      "   1.17446774e+00]\n",
      " [-2.91095798e-01  3.96861361e-01  1.58864257e+00  7.90483507e-01\n",
      "  -2.91242415e+00]\n",
      " [ 1.04090637e+00 -3.74220749e-02 -1.99312989e-01 -8.68565440e-01\n",
      "  -1.97822971e-01]\n",
      " [-4.80849143e-01  5.44831467e-02  2.32592364e-01  3.40986527e-01\n",
      "  -2.61514501e-01]\n",
      " [-1.12511459e+00 -1.82168695e-01 -7.93032644e-01 -1.38615267e+00\n",
      "   7.28000785e-01]]\n",
      "[1 0 1 1 1 0 0 1 0 0 0 1 0 0 0 0 1 0 0 0 0 0 1 1 1 1 1 1 0 0 0 1 1 0 0 1 1\n",
      " 1 1 1 0 0 0 1 1 1 0 1 0 1]\n"
     ]
    }
   ],
   "source": [
    "from sklearn.datasets import make_classification\n",
    "\n",
    "# Dummy data\n",
    "clasData = make_classification(n_features = 5, n_samples = 50,random_state = 4)\n",
    "X=clasData[0]\n",
    "y=clasData[1]\n",
    "\n",
    "print(X)\n",
    "print(y)"
   ]
  },
  {
   "cell_type": "code",
   "execution_count": 3,
   "metadata": {},
   "outputs": [
    {
     "name": "stdout",
     "output_type": "stream",
     "text": [
      "[0. 0. 0. 0. 0.]\n"
     ]
    }
   ],
   "source": [
    "import numpy as np\n",
    "\n",
    "# Initialization\n",
    "learning_rate = 0.1\n",
    "n_iter = 600\n",
    "b = 0\n",
    "w = np.zeros(X.shape[1])  #an array of weights for each X variables\n",
    "print(w)"
   ]
  },
  {
   "cell_type": "code",
   "execution_count": 4,
   "metadata": {},
   "outputs": [],
   "source": [
    "# Implement Logistic Regression functions with lambda\n",
    "predict = lambda x, w, b: np.matmul(w,x.T) + b\n",
    "sigmoid = lambda yhat: 1/(1+np.exp(-yhat))\n",
    "loss = lambda y, sigmoid: -(y*np.log(sigmoid)+(1-y)*np.log(1-sigmoid)).mean()\n",
    "dldw = lambda x, y, sigmoid: (np.reshape(sigmoid-y,(50,1))*x).mean(axis = 0)\n",
    "dldb = lambda y, sig: (sig-y).mean(axis = 0)\n",
    "update = lambda a, g, lr: a-(g*lr)"
   ]
  },
  {
   "cell_type": "code",
   "execution_count": 12,
   "metadata": {},
   "outputs": [
    {
     "data": {
      "image/png": "[encoded data removed]",
      "text/plain": [
       "<Figure size 640x480 with 1 Axes>"
      ]
     },
     "metadata": {},
     "output_type": "display_data"
    }
   ],
   "source": [
    "# Do Iteration \n",
    "losses = []\n",
    "for i in range(n_iter):\n",
    "    yhat = predict(X,w,b)\n",
    "    sig = sigmoid(yhat)\n",
    "    logloss = loss(y,sig)\n",
    "    losses.append(logloss)\n",
    "    grad_w = dldw(X,y,sig)\n",
    "    grad_b = dldb(y,sig)\n",
    "    w = update(w,grad_w,learning_rate)\n",
    "    b = update(b,grad_b,learning_rate)\n",
    "\n",
    "import matplotlib.pyplot as plt\n",
    "plt.plot(losses)\n",
    "plt.show()\n"
   ]
  },
  {
   "cell_type": "code",
   "execution_count": 11,
   "metadata": {},
   "outputs": [
    {
     "name": "stdout",
     "output_type": "stream",
     "text": [
      "              precision    recall  f1-score   support\n",
      "\n",
      "           0       0.88      0.84      0.86        25\n",
      "           1       0.85      0.88      0.86        25\n",
      "\n",
      "    accuracy                           0.86        50\n",
      "   macro avg       0.86      0.86      0.86        50\n",
      "weighted avg       0.86      0.86      0.86        50\n",
      "\n"
     ]
    }
   ],
   "source": [
    "from sklearn.metrics import classification_report\n",
    "\n",
    "# Make Classification Report\n",
    "yhat = predict(X,w,b)\n",
    "sigy = sigmoid(yhat)\n",
    "ypred = sigy >= 0.5\n",
    "print(classification_report(y,ypred))\n"
   ]
  }
 ],
 "metadata": {
  "kernelspec": {
   "display_name": ".venv",
   "language": "python",
   "name": "python3"
  },
  "language_info": {
   "codemirror_mode": {
    "name": "ipython",
    "version": 3
   },
   "file_extension": ".py",
   "mimetype": "text/x-python",
   "name": "python",
   "nbconvert_exporter": "python",
   "pygments_lexer": "ipython3",
   "version": "3.12.4"
  }
 },
 "nbformat": 4,
 "nbformat_minor": 2
}
