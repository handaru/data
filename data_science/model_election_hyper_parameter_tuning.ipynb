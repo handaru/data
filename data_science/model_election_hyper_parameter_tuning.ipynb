{
 "cells": [
  {
   "cell_type": "markdown",
   "metadata": {},
   "source": [
    "## Data Preparation"
   ]
  },
  {
   "cell_type": "markdown",
   "metadata": {},
   "source": [
    "Split the data into training and testing data"
   ]
  },
  {
   "cell_type": "code",
   "execution_count": 1,
   "metadata": {},
   "outputs": [],
   "source": [
    "import pandas as pd\n",
    "\n",
    "df = pd.read_csv(\"https://dlsun.github.io/pods/data/bordeaux.csv\",\n",
    "                 index_col=\"year\")\n",
    "df_train = df.loc[:1980].copy()\n",
    "df_test = df.loc[1981:].copy()"
   ]
  },
  {
   "cell_type": "code",
   "execution_count": 2,
   "metadata": {},
   "outputs": [],
   "source": [
    "from sklearn.pipeline import make_pipeline\n",
    "from sklearn.preprocessing import StandardScaler\n",
    "from sklearn.neighbors import KNeighborsRegressor\n",
    "\n",
    "pipeline = make_pipeline(\n",
    "    StandardScaler(),\n",
    "    KNeighborsRegressor(n_neighbors=5, metric=\"euclidean\"))\n",
    "X_train = df_train[[\"win\", \"summer\"]]\n",
    "y_train = df_train[\"price\"]"
   ]
  },
  {
   "cell_type": "markdown",
   "metadata": {},
   "source": [
    "Fit a 5-nearest neighbors model to the training data and use the model to predict the labels on the testing data"
   ]
  },
  {
   "cell_type": "code",
   "execution_count": 3,
   "metadata": {},
   "outputs": [
    {
     "data": {
      "text/plain": [
       "375.27166666666665"
      ]
     },
     "execution_count": 3,
     "metadata": {},
     "output_type": "execute_result"
    }
   ],
   "source": [
    "from sklearn.model_selection import cross_val_score\n",
    "scores = cross_val_score(\n",
    "    pipeline,\n",
    "    X=X_train, y=y_train,\n",
    "    scoring=\"neg_mean_squared_error\",\n",
    "    cv=4)\n",
    "-scores.mean()"
   ]
  },
  {
   "cell_type": "markdown",
   "metadata": {},
   "source": [
    "## Model Selection"
   ]
  },
  {
   "cell_type": "markdown",
   "metadata": {},
   "source": [
    "What input features should we include?\n",
    "\n",
    "- winter rain, summer temp\n",
    "- winter rain, summer temp, harvest rain\n",
    "- winter rain, summer temp, harvest rain, Sept. temp"
   ]
  },
  {
   "cell_type": "code",
   "execution_count": 4,
   "metadata": {},
   "outputs": [
    {
     "name": "stdout",
     "output_type": "stream",
     "text": [
      "['win', 'summer'] 375.27166666666665\n",
      "['win', 'summer', 'har'] 363.04047619047617\n",
      "['win', 'summer', 'har', 'sep'] 402.4507142857142\n"
     ]
    }
   ],
   "source": [
    "for features in [[\"win\", \"summer\"],\n",
    "                 [\"win\", \"summer\", \"har\"],\n",
    "                 [\"win\", \"summer\", \"har\", \"sep\"]]:\n",
    "  scores = cross_val_score(\n",
    "      pipeline,\n",
    "      X=df_train[features],\n",
    "      y=df_train[\"price\"],\n",
    "      scoring=\"neg_mean_squared_error\",\n",
    "      cv=4)\n",
    "  print(features, -scores.mean())"
   ]
  },
  {
   "cell_type": "markdown",
   "metadata": {},
   "source": [
    "## Hyperparameter Tuning\n",
    "\n",
    "What is the best value of $k$?"
   ]
  },
  {
   "cell_type": "code",
   "execution_count": 5,
   "metadata": {},
   "outputs": [],
   "source": [
    "X_train = df_train[[\"win\", \"summer\", \"har\"]]\n",
    "\n",
    "ks, test_mses = range(1, 7), []\n",
    "for k in ks:\n",
    "  pipeline = make_pipeline(\n",
    "      StandardScaler(),\n",
    "      KNeighborsRegressor(n_neighbors=k, metric=\"euclidean\"))\n",
    "  scores = cross_val_score(\n",
    "      pipeline, X_train, y_train,\n",
    "      scoring=\"neg_mean_squared_error\", cv=4)\n",
    "  test_mses.append(-scores.mean())"
   ]
  },
  {
   "cell_type": "code",
   "execution_count": 6,
   "metadata": {},
   "outputs": [
    {
     "data": {
      "text/plain": [
       "Text(0, 0.5, 'Test MSE')"
      ]
     },
     "execution_count": 6,
     "metadata": {},
     "output_type": "execute_result"
    },
    {
     "data": {
      "image/png": "[encoded data removed]",
      "text/plain": [
       "<Figure size 640x480 with 1 Axes>"
      ]
     },
     "metadata": {},
     "output_type": "display_data"
    }
   ],
   "source": [
    "ax = pd.Series(test_mses, index=ks).plot.line()\n",
    "ax.set_xlabel(\"k\")\n",
    "ax.set_ylabel(\"Test MSE\")"
   ]
  },
  {
   "cell_type": "markdown",
   "metadata": {},
   "source": [
    "## Grid Search\n",
    "\n",
    "Scikit-Learn can make a grid of the possible parameter combinations, run cross-validation for each combination, and return the best parameter combination."
   ]
  },
  {
   "cell_type": "code",
   "execution_count": 7,
   "metadata": {},
   "outputs": [
    {
     "name": "stderr",
     "output_type": "stream",
     "text": [
      "/Users/mac/Project/utopiq/fif/data/training/first_group/.venv/lib/python3.12/site-packages/numpy/ma/core.py:2820: RuntimeWarning: invalid value encountered in cast\n",
      "  _data = np.array(data, dtype=dtype, copy=copy,\n"
     ]
    },
    {
     "data": {
      "text/plain": [
       "{'kneighborsregressor__metric': 'euclidean',\n",
       " 'kneighborsregressor__n_neighbors': 2}"
      ]
     },
     "execution_count": 7,
     "metadata": {},
     "output_type": "execute_result"
    }
   ],
   "source": [
    "from sklearn.model_selection import GridSearchCV\n",
    "\n",
    "grid_cv = GridSearchCV(\n",
    "    pipeline,\n",
    "    param_grid={\n",
    "        \"kneighborsregressor__n_neighbors\": range(1, 7),\n",
    "        \"kneighborsregressor__metric\": [\"euclidean\", \"manhattan\"],\n",
    "    },\n",
    "    scoring=\"neg_mean_squared_error\", cv=4)\n",
    "\n",
    "grid_cv.fit(X_train, y_train)\n",
    "grid_cv.best_params_"
   ]
  },
  {
   "cell_type": "markdown",
   "metadata": {},
   "source": [
    "Where did the parameter names in `param_grid` come from?"
   ]
  },
  {
   "cell_type": "code",
   "execution_count": 8,
   "metadata": {},
   "outputs": [
    {
     "data": {
      "text/plain": [
       "[('standardscaler', StandardScaler()),\n",
       " ('kneighborsregressor',\n",
       "  KNeighborsRegressor(metric='euclidean', n_neighbors=6))]"
      ]
     },
     "execution_count": 8,
     "metadata": {},
     "output_type": "execute_result"
    }
   ],
   "source": [
    "pipeline.steps"
   ]
  }
 ],
 "metadata": {
  "kernelspec": {
   "display_name": ".venv",
   "language": "python",
   "name": "python3"
  },
  "language_info": {
   "codemirror_mode": {
    "name": "ipython",
    "version": 3
   },
   "file_extension": ".py",
   "mimetype": "text/x-python",
   "name": "python",
   "nbconvert_exporter": "python",
   "pygments_lexer": "ipython3",
   "version": "3.12.4"
  }
 },
 "nbformat": 4,
 "nbformat_minor": 2
}
