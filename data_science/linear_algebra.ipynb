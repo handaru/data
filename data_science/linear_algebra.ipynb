{
 "cells": [
  {
   "cell_type": "markdown",
   "metadata": {},
   "source": [
    "### Row and Column Vectors (note: in NumPy vectors are represented as n-dimensional arrays)"
   ]
  },
  {
   "cell_type": "code",
   "execution_count": 6,
   "metadata": {},
   "outputs": [
    {
     "name": "stdout",
     "output_type": "stream",
     "text": [
      "[[1 2 3 4 5]]\n",
      "[[1]\n",
      " [2]\n",
      " [3]\n",
      " [4]]\n",
      "(1, 5)\n",
      "(4, 1)\n"
     ]
    }
   ],
   "source": [
    "import numpy as np\n",
    "vector_row = np.array([[1, 2, 3, 4, 5]])\n",
    "vector_column = np.array([[1], [2], [3], [4]])\n",
    "\n",
    "print(vector_row)\n",
    "print(vector_column)\n",
    "print(vector_row.shape)\n",
    "print(vector_column.shape)"
   ]
  },
  {
   "cell_type": "markdown",
   "metadata": {},
   "source": [
    "### Lenght of a vector"
   ]
  },
  {
   "cell_type": "code",
   "execution_count": 17,
   "metadata": {},
   "outputs": [
    {
     "name": "stdout",
     "output_type": "stream",
     "text": [
      "7.416198487095663\n",
      "5.477225575051661\n",
      "7.416198487095663\n",
      "5.477225575051661\n"
     ]
    }
   ],
   "source": [
    "def vector_row_sum(the_vector):\n",
    "    temp = 0\n",
    "    for i in the_vector:\n",
    "        temp += i**2\n",
    "    return temp\n",
    "\n",
    "length_of_vector_row_manual = np.sqrt(vector_row_sum(vector_row[0]))\n",
    "\n",
    "def vector_column_sum(the_vector):\n",
    "    temp = 0\n",
    "    for i in the_vector:\n",
    "        temp += i[0]**2\n",
    "    return temp\n",
    "\n",
    "length_of_vector_column_manual = np.sqrt(vector_column_sum(vector_column))\n",
    "\n",
    "print(length_of_vector_row_manual)\n",
    "print(length_of_vector_column_manual)\n",
    "\n",
    "length_of_vector_row = np.linalg.norm(vector_row)\n",
    "length_of_vector_column = np.linalg.norm(vector_column)\n",
    "\n",
    "print(length_of_vector_row)\n",
    "print(length_of_vector_column)"
   ]
  },
  {
   "cell_type": "markdown",
   "metadata": {},
   "source": [
    "### Transpose of a Vector"
   ]
  },
  {
   "cell_type": "code",
   "execution_count": 149,
   "metadata": {},
   "outputs": [
    {
     "name": "stdout",
     "output_type": "stream",
     "text": [
      "[[1]\n",
      " [2]\n",
      " [3]\n",
      " [4]\n",
      " [5]]\n",
      "[[1]\n",
      " [2]\n",
      " [3]\n",
      " [4]\n",
      " [5]]\n"
     ]
    }
   ],
   "source": [
    "def transpose_vector(the_vector):\n",
    "    result = []\n",
    "    for i in the_vector[0]:\n",
    "        result.append(np.array([i]))\n",
    "         \n",
    "    return np.asarray(result)\n",
    "\n",
    "transposed_vector_manual = transpose_vector(vector_row)\n",
    "print(transposed_vector_manual)\n",
    "\n",
    "transposed_vector = vector_row.T\n",
    "print(transposed_vector)\n"
   ]
  },
  {
   "cell_type": "markdown",
   "metadata": {},
   "source": [
    "### Vector-vector Addition"
   ]
  },
  {
   "cell_type": "code",
   "execution_count": 162,
   "metadata": {},
   "outputs": [
    {
     "name": "stdout",
     "output_type": "stream",
     "text": [
      "[[2]\n",
      " [4]\n",
      " [6]]\n",
      "[[3]\n",
      " [6]\n",
      " [9]]\n"
     ]
    }
   ],
   "source": [
    "v = w = np.array([[1],\n",
    "                  [2],\n",
    "                  [3]])\n",
    "\n",
    "u = v + w\n",
    "print(u)\n",
    "\n",
    "u = np.add(u,w)\n",
    "print(u)\n",
    "\n"
   ]
  },
  {
   "cell_type": "markdown",
   "metadata": {},
   "source": [
    "### Vector-scalar Addition"
   ]
  },
  {
   "cell_type": "code",
   "execution_count": 156,
   "metadata": {},
   "outputs": [
    {
     "name": "stdout",
     "output_type": "stream",
     "text": [
      "[[101]\n",
      " [102]\n",
      " [103]]\n",
      "[[201]\n",
      " [202]\n",
      " [203]]\n"
     ]
    }
   ],
   "source": [
    "v = np.array([[1],\n",
    "              [2],\n",
    "              [3]])\n",
    "\n",
    "a = 100\n",
    "\n",
    "u = v + a\n",
    "print(u)\n",
    "\n",
    "u = np.add(u,a)\n",
    "print(u)"
   ]
  },
  {
   "cell_type": "markdown",
   "metadata": {},
   "source": [
    "### Vector-vector Multiplication: Dot Product"
   ]
  },
  {
   "cell_type": "code",
   "execution_count": 166,
   "metadata": {},
   "outputs": [
    {
     "name": "stdout",
     "output_type": "stream",
     "text": [
      "[[16]]\n",
      "[[16]]\n"
     ]
    }
   ],
   "source": [
    "v, w = np.array([[-2],[2]]), np.array([[-4],[4]])\n",
    "\n",
    "u = np.dot(v.T,w)\n",
    "print(u)\n",
    "\n",
    "u = v.T @ w\n",
    "print(u)\n"
   ]
  },
  {
   "cell_type": "markdown",
   "metadata": {},
   "source": [
    "### Vector-vector Multiplication: Cross Product"
   ]
  },
  {
   "cell_type": "code",
   "execution_count": 4,
   "metadata": {},
   "outputs": [
    {
     "name": "stdout",
     "output_type": "stream",
     "text": [
      "[[-6 -6  0]]\n"
     ]
    }
   ],
   "source": [
    "v, w = np.array([[-2, 2, -1]]), np.array([[-4, 4, -5]])\n",
    "\n",
    "u = np.cross(v,w)\n",
    "print(u)"
   ]
  },
  {
   "cell_type": "markdown",
   "metadata": {},
   "source": [
    "### Vector-scalar Multiplication"
   ]
  },
  {
   "cell_type": "code",
   "execution_count": 10,
   "metadata": {},
   "outputs": [
    {
     "name": "stdout",
     "output_type": "stream",
     "text": [
      "[[-200  200 -100]]\n",
      "[[-200  200 -100]]\n"
     ]
    }
   ],
   "source": [
    "v = np.array([[-2, 2, -1]])\n",
    "a = 100\n",
    "\n",
    "u1 = v * a\n",
    "u2 = np.multiply(a,v)\n",
    "\n",
    "print(u)\n",
    "print(u)"
   ]
  },
  {
   "cell_type": "markdown",
   "metadata": {},
   "source": [
    "### Matrics"
   ]
  },
  {
   "cell_type": "code",
   "execution_count": 6,
   "metadata": {},
   "outputs": [
    {
     "name": "stdout",
     "output_type": "stream",
     "text": [
      "a 2x2 Matrix:\n",
      "[[0 2]\n",
      " [1 4]]\n"
     ]
    }
   ],
   "source": [
    "A = np.array([[0,2],  # 1st row\n",
    "              [1,4]]) # 2nd row\n",
    "\n",
    "print(f'a 2x2 Matrix:\\n{A}')"
   ]
  },
  {
   "cell_type": "markdown",
   "metadata": {},
   "source": [
    "### Matrix-matrix Addition"
   ]
  },
  {
   "cell_type": "code",
   "execution_count": 18,
   "metadata": {},
   "outputs": [
    {
     "name": "stdout",
     "output_type": "stream",
     "text": [
      "A+B:\n",
      "[[ 3  3]\n",
      " [-2  6]]\n",
      "np.add(A,B):\n",
      "[[ 3  3]\n",
      " [-2  6]]\n"
     ]
    }
   ],
   "source": [
    "A = np.array([[0,2],\n",
    "              [1,4]])\n",
    "B = np.array([[3,1],\n",
    "              [-3,2]])\n",
    "\n",
    "print(f'A+B:\\n{A+B}')\n",
    "print(f'np.add(A,B):\\n{np.add(A,B)}')"
   ]
  },
  {
   "cell_type": "markdown",
   "metadata": {},
   "source": [
    "### Matrix-scalar Addition"
   ]
  },
  {
   "cell_type": "code",
   "execution_count": 9,
   "metadata": {},
   "outputs": [
    {
     "name": "stdout",
     "output_type": "stream",
     "text": [
      "A+a:\n",
      "[[100 102]\n",
      " [101 104]]\n",
      "np.add(A,a):\n",
      "[[100 102]\n",
      " [101 104]]\n"
     ]
    }
   ],
   "source": [
    "A = np.array([[0,2],\n",
    "              [1,4]])\n",
    "a = 100\n",
    "\n",
    "print(f'A+a:\\n{A+a}')\n",
    "print(f'np.add(A,a):\\n{np.add(A,a)}')"
   ]
  },
  {
   "cell_type": "markdown",
   "metadata": {},
   "source": [
    "### Matrix-matrix Multiplication: Dot Product"
   ]
  },
  {
   "cell_type": "code",
   "execution_count": 3,
   "metadata": {},
   "outputs": [
    {
     "name": "stdout",
     "output_type": "stream",
     "text": [
      "[[4 2]\n",
      " [9 7]]\n",
      "[[4 2]\n",
      " [9 7]]\n"
     ]
    }
   ],
   "source": [
    "A = np.array([[0,2],\n",
    "              [1,4]])\n",
    "B = np.array([[1,3],\n",
    "              [2,1]])\n",
    "\n",
    "print(A@B)\n",
    "print(np.dot(A,B))"
   ]
  },
  {
   "cell_type": "code",
   "execution_count": 4,
   "metadata": {},
   "outputs": [
    {
     "name": "stdout",
     "output_type": "stream",
     "text": [
      "[[4]\n",
      " [9]]\n",
      "[[4]\n",
      " [9]]\n"
     ]
    }
   ],
   "source": [
    "A = np.array([[0,2],\n",
    "              [1,4]])\n",
    "x = np.array([[1],\n",
    "              [2]])\n",
    "\n",
    "print(A@x)\n",
    "print(np.dot(A,x))"
   ]
  },
  {
   "cell_type": "markdown",
   "metadata": {},
   "source": [
    "#### Matrix-scalar Multiplication: dot product"
   ]
  },
  {
   "cell_type": "code",
   "execution_count": 6,
   "metadata": {},
   "outputs": [
    {
     "name": "stdout",
     "output_type": "stream",
     "text": [
      "[[  0 200]\n",
      " [100 400]]\n",
      "[[  0 200]\n",
      " [100 400]]\n"
     ]
    }
   ],
   "source": [
    "A = np.array([[0,2],\n",
    "              [1,4]])\n",
    "a = 100\n",
    "\n",
    "print(A*a)\n",
    "print(np.multiply(A,a))"
   ]
  },
  {
   "cell_type": "markdown",
   "metadata": {},
   "source": [
    "### Matrix Inverse"
   ]
  },
  {
   "cell_type": "code",
   "execution_count": 10,
   "metadata": {},
   "outputs": [
    {
     "name": "stdout",
     "output_type": "stream",
     "text": [
      "[[-7. -7.  6.]\n",
      " [ 2.  1. -1.]\n",
      " [ 4.  5. -4.]]\n",
      "[[ 1.00000000e+00  3.55271368e-15  3.55271368e-15]\n",
      " [ 0.00000000e+00  1.00000000e+00 -8.88178420e-16]\n",
      " [ 1.77635684e-15 -8.88178420e-16  1.00000000e+00]]\n",
      "[[ 1.  0.  0.]\n",
      " [ 0.  1. -0.]\n",
      " [ 0. -0.  1.]]\n"
     ]
    }
   ],
   "source": [
    "A = np.array([[1, 2, 1],\n",
    "              [4, 4, 5],\n",
    "              [6, 7, 7]])\n",
    "\n",
    "print(np.linalg.inv(A))\n",
    "print(np.linalg.inv(A) @ A)\n",
    "print(np.round(np.linalg.inv(A) @ A))"
   ]
  },
  {
   "cell_type": "markdown",
   "metadata": {},
   "source": [
    "### Matrix Transpose"
   ]
  },
  {
   "cell_type": "code",
   "execution_count": 12,
   "metadata": {},
   "outputs": [
    {
     "name": "stdout",
     "output_type": "stream",
     "text": [
      "[[1 2 1]\n",
      " [4 4 5]\n",
      " [6 7 7]]\n",
      "[[1 4 6]\n",
      " [2 4 7]\n",
      " [1 5 7]]\n"
     ]
    }
   ],
   "source": [
    "print(A)\n",
    "print(A.T)"
   ]
  }
 ],
 "metadata": {
  "kernelspec": {
   "display_name": "dbt-env",
   "language": "python",
   "name": "python3"
  },
  "language_info": {
   "codemirror_mode": {
    "name": "ipython",
    "version": 3
   },
   "file_extension": ".py",
   "mimetype": "text/x-python",
   "name": "python",
   "nbconvert_exporter": "python",
   "pygments_lexer": "ipython3",
   "version": "3.12.4"
  }
 },
 "nbformat": 4,
 "nbformat_minor": 2
}
