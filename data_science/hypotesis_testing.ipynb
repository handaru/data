{
 "cells": [
  {
   "cell_type": "code",
   "execution_count": 2,
   "metadata": {},
   "outputs": [],
   "source": [
    "%matplotlib inline\n",
    "\n",
    "import pandas as pd\n",
    "import scipy.stats as stats\n",
    "import matplotlib.pyplot as plt\n",
    "import math"
   ]
  },
  {
   "cell_type": "code",
   "execution_count": 5,
   "metadata": {},
   "outputs": [
    {
     "name": "stdout",
     "output_type": "stream",
     "text": [
      "43.000112\n",
      "39.26\n"
     ]
    }
   ],
   "source": [
    "import numpy as np\n",
    "\n",
    "np.random.seed(6)\n",
    "\n",
    "#generate random values from Poisson distribution with lowest x value=18, mean=35 and sample size=150000\n",
    "national_ages1 = stats.poisson.rvs(loc=18, mu=35, size=150000)\n",
    "#generate random values from Poisson distribution with lowest x value=18, mean=10 and sample size=100000\n",
    "national_ages2 = stats.poisson.rvs(loc=18, mu=10, size=100000)\n",
    "national_ages = np.concatenate((national_ages1, national_ages2))\n",
    "\n",
    "#generate random values from Poisson distribution with lowest x value=18, mean=30 and sample size=30\n",
    "east_java_ages1 = stats.poisson.rvs(loc=18, mu=30, size=30)\n",
    "#generate random values from Poisson distribution with lowest x value=18, mean=10 and sample size=20\n",
    "east_java_ages2 = stats.poisson.rvs(loc=18, mu=10, size=20)\n",
    "east_java_ages = np.concatenate((east_java_ages1, east_java_ages2))\n",
    "\n",
    "print( national_ages.mean() )\n",
    "print( east_java_ages.mean() )"
   ]
  },
  {
   "cell_type": "code",
   "execution_count": 6,
   "metadata": {},
   "outputs": [
    {
     "data": {
      "text/plain": [
       "TtestResult(statistic=-2.5742714883655027, pvalue=0.013118685425061678, df=49)"
      ]
     },
     "execution_count": 6,
     "metadata": {},
     "output_type": "execute_result"
    }
   ],
   "source": [
    "import scipy.stats as stats\n",
    "\n",
    "stats.ttest_1samp(a = east_java_ages,               # Sample data\n",
    "                 popmean = national_ages.mean())    # Pop mean"
   ]
  },
  {
   "cell_type": "code",
   "execution_count": 17,
   "metadata": {},
   "outputs": [
    {
     "data": {
      "text/plain": [
       "-2.0095752371292397"
      ]
     },
     "execution_count": 17,
     "metadata": {},
     "output_type": "execute_result"
    }
   ],
   "source": [
    "# Degrees of freedom (total sample - 1)\n",
    "df = east_java_ages.shape[0] - 1\n",
    "\n",
    "stats.t.ppf(q=0.025,  # Quantile to check\n",
    "            df=df)  "
   ]
  },
  {
   "cell_type": "code",
   "execution_count": 18,
   "metadata": {},
   "outputs": [
    {
     "data": {
      "text/plain": [
       "2.0095752371292397"
      ]
     },
     "execution_count": 18,
     "metadata": {},
     "output_type": "execute_result"
    }
   ],
   "source": [
    "stats.t.ppf(q=0.975,  # Quantile to check\n",
    "            df=df)"
   ]
  },
  {
   "cell_type": "code",
   "execution_count": 21,
   "metadata": {},
   "outputs": [
    {
     "data": {
      "text/plain": [
       "0.013118685425061678"
      ]
     },
     "execution_count": 21,
     "metadata": {},
     "output_type": "execute_result"
    }
   ],
   "source": [
    "stats.t.cdf(x=-2.5742714883655027,   # from t-test statistic\n",
    "               df=df) * 2            # The alternative hypothesis we are checking is whether the sample mean differs \n",
    "                                     # (is not equal to) the population mean, since the sample could differ in either the positive \n",
    "                                     # or negative direction we multiply the by two"
   ]
  },
  {
   "cell_type": "code",
   "execution_count": 23,
   "metadata": {},
   "outputs": [
    {
     "data": {
      "text/plain": [
       "(35.40547994092107, 43.11452005907893)"
      ]
     },
     "execution_count": 23,
     "metadata": {},
     "output_type": "execute_result"
    }
   ],
   "source": [
    "sigma = east_java_ages.std()/math.sqrt(east_java_ages.shape[0])  # Sample stdev/sample size\n",
    "\n",
    "stats.t.interval(0.99,                                           # Confidence level\n",
    "                 df = df,                                        # Degrees of freedom\n",
    "                 loc = east_java_ages.mean(),                    # Sample mean\n",
    "                 scale= sigma)                                   # Standard dev estimate"
   ]
  },
  {
   "cell_type": "code",
   "execution_count": 24,
   "metadata": {},
   "outputs": [
    {
     "name": "stdout",
     "output_type": "stream",
     "text": [
      "42.8\n"
     ]
    }
   ],
   "source": [
    "np.random.seed(12)\n",
    "west_java_ages1 = stats.poisson.rvs(loc=18, mu=33, size=30)\n",
    "west_java_ages2 = stats.poisson.rvs(loc=18, mu=13, size=20)\n",
    "west_java_ages = np.concatenate((west_java_ages1, west_java_ages2))\n",
    "\n",
    "print( west_java_ages.mean() )"
   ]
  }
 ],
 "metadata": {
  "kernelspec": {
   "display_name": ".venv",
   "language": "python",
   "name": "python3"
  },
  "language_info": {
   "codemirror_mode": {
    "name": "ipython",
    "version": 3
   },
   "file_extension": ".py",
   "mimetype": "text/x-python",
   "name": "python",
   "nbconvert_exporter": "python",
   "pygments_lexer": "ipython3",
   "version": "3.12.4"
  }
 },
 "nbformat": 4,
 "nbformat_minor": 2
}
