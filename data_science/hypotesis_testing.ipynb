{
 "cells": [
  {
   "cell_type": "markdown",
   "metadata": {},
   "source": [
    "### Generate Sample and population"
   ]
  },
  {
   "cell_type": "code",
   "execution_count": 16,
   "metadata": {},
   "outputs": [
    {
     "name": "stdout",
     "output_type": "stream",
     "text": [
      "43.000112\n",
      "39.26\n"
     ]
    }
   ],
   "source": [
    "import numpy as np\n",
    "import scipy.stats as stats\n",
    "\n",
    "np.random.seed(6)\n",
    "\n",
    "# Generate random values from Poisson distribution with lowest x value=18, mean=35 and sample size=150000\n",
    "national_ages1 = stats.poisson.rvs(loc=18, mu=35, size=150000)\n",
    "#generate random values from Poisson distribution with lowest x value=18, mean=10 and sample size=100000\n",
    "national_ages2 = stats.poisson.rvs(loc=18, mu=10, size=100000)\n",
    "national_ages = np.concatenate((national_ages1, national_ages2))\n",
    "\n",
    "# Generate random values from Poisson distribution with lowest x value=18, mean=30 and sample size=30\n",
    "east_java_ages1 = stats.poisson.rvs(loc=18, mu=30, size=30)\n",
    "#generate random values from Poisson distribution with lowest x value=18, mean=10 and sample size=20\n",
    "east_java_ages2 = stats.poisson.rvs(loc=18, mu=10, size=20)\n",
    "east_java_ages = np.concatenate((east_java_ages1, east_java_ages2))\n",
    "\n",
    "print( national_ages.mean() )\n",
    "print( east_java_ages.mean() )"
   ]
  },
  {
   "cell_type": "code",
   "execution_count": 17,
   "metadata": {},
   "outputs": [
    {
     "data": {
      "text/plain": [
       "(array([1.24456338e-02, 3.92535211e-02, 5.24619718e-03, 1.07470423e-02,\n",
       "        3.46884507e-02, 2.95307042e-02, 8.12788732e-03, 7.73521127e-04,\n",
       "        3.04225352e-05, 1.69014085e-06]),\n",
       " array([18. , 25.1, 32.2, 39.3, 46.4, 53.5, 60.6, 67.7, 74.8, 81.9, 89. ]),\n",
       " <BarContainer object of 10 artists>)"
      ]
     },
     "execution_count": 17,
     "metadata": {},
     "output_type": "execute_result"
    },
    {
     "data": {
      "image/png": "[encoded data removed]",
      "text/plain": [
       "<Figure size 640x480 with 1 Axes>"
      ]
     },
     "metadata": {},
     "output_type": "display_data"
    }
   ],
   "source": [
    "import matplotlib.pyplot as plt\n",
    "\n",
    "plt.hist(national_ages, density=True)"
   ]
  },
  {
   "cell_type": "markdown",
   "metadata": {},
   "source": [
    "### Do One-Sample T-Test"
   ]
  },
  {
   "cell_type": "code",
   "execution_count": 18,
   "metadata": {},
   "outputs": [
    {
     "data": {
      "text/plain": [
       "TtestResult(statistic=-2.5742714883655027, pvalue=0.013118685425061678, df=49)"
      ]
     },
     "execution_count": 18,
     "metadata": {},
     "output_type": "execute_result"
    }
   ],
   "source": [
    "stats.ttest_1samp(a = east_java_ages,               # Sample data\n",
    "                 popmean = national_ages.mean())    # Pop mean"
   ]
  },
  {
   "cell_type": "markdown",
   "metadata": {},
   "source": [
    "### Conduct a t-test at a 95% confidence level"
   ]
  },
  {
   "cell_type": "code",
   "execution_count": 19,
   "metadata": {},
   "outputs": [
    {
     "data": {
      "text/plain": [
       "-2.0095752371292397"
      ]
     },
     "execution_count": 19,
     "metadata": {},
     "output_type": "execute_result"
    }
   ],
   "source": [
    "# Degrees of freedom (total sample - 1)\n",
    "df = east_java_ages.shape[0] - 1\n",
    "\n",
    "stats.t.ppf(q=0.025,  # Quantile to check\n",
    "            df=df)  "
   ]
  },
  {
   "cell_type": "code",
   "execution_count": 20,
   "metadata": {},
   "outputs": [
    {
     "data": {
      "text/plain": [
       "2.0095752371292397"
      ]
     },
     "execution_count": 20,
     "metadata": {},
     "output_type": "execute_result"
    }
   ],
   "source": [
    "stats.t.ppf(q=0.975,  # Quantile to check\n",
    "            df=df)"
   ]
  },
  {
   "cell_type": "markdown",
   "metadata": {},
   "source": [
    "### Another way to get p-value (using stats.t.cdf() method)"
   ]
  },
  {
   "cell_type": "code",
   "execution_count": 21,
   "metadata": {},
   "outputs": [
    {
     "data": {
      "text/plain": [
       "0.013118685425061678"
      ]
     },
     "execution_count": 21,
     "metadata": {},
     "output_type": "execute_result"
    }
   ],
   "source": [
    "stats.t.cdf(x=-2.5742714883655027,   # from t-test statistic\n",
    "               df=df) * 2            # The alternative hypothesis we are checking is whether the sample mean differs \n",
    "                                     # (is not equal to) the population mean, since the sample could differ in either the positive \n",
    "                                     # or negative direction we multiply the by two"
   ]
  },
  {
   "cell_type": "markdown",
   "metadata": {},
   "source": [
    "### If we were to construct a 95% confidence interval for the sample it would not capture (national) population mean of 43"
   ]
  },
  {
   "cell_type": "code",
   "execution_count": 22,
   "metadata": {},
   "outputs": [
    {
     "data": {
      "text/plain": [
       "(36.36966907692507, 42.150330923074925)"
      ]
     },
     "execution_count": 22,
     "metadata": {},
     "output_type": "execute_result"
    }
   ],
   "source": [
    "import math\n",
    "\n",
    "sigma = east_java_ages.std()/math.sqrt(east_java_ages.shape[0])  # Sample stdev/sample size\n",
    "\n",
    "stats.t.interval(0.95,                                           # Confidence level\n",
    "                 df = df,                                        # Degrees of freedom\n",
    "                 loc = east_java_ages.mean(),                    # Sample mean\n",
    "                 scale= sigma)                                   # Standard dev estimate"
   ]
  },
  {
   "cell_type": "markdown",
   "metadata": {},
   "source": [
    "### If we were to construct a 99% confidence interval, it would capture the (national) population mean"
   ]
  },
  {
   "cell_type": "code",
   "execution_count": 23,
   "metadata": {},
   "outputs": [
    {
     "data": {
      "text/plain": [
       "(35.40547994092107, 43.11452005907893)"
      ]
     },
     "execution_count": 23,
     "metadata": {},
     "output_type": "execute_result"
    }
   ],
   "source": [
    "stats.t.interval(0.99,                                           # Confidence level\n",
    "                 df = df,                                        # Degrees of freedom\n",
    "                 loc = east_java_ages.mean(),                    # Sample mean\n",
    "                 scale= sigma)                                   # Standard dev estimate"
   ]
  }
 ],
 "metadata": {
  "kernelspec": {
   "display_name": ".venv",
   "language": "python",
   "name": "python3"
  },
  "language_info": {
   "codemirror_mode": {
    "name": "ipython",
    "version": 3
   },
   "file_extension": ".py",
   "mimetype": "text/x-python",
   "name": "python",
   "nbconvert_exporter": "python",
   "pygments_lexer": "ipython3",
   "version": "3.12.4"
  }
 },
 "nbformat": 4,
 "nbformat_minor": 2
}
