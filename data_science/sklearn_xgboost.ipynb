{
 "cells": [
  {
   "cell_type": "code",
   "execution_count": 16,
   "metadata": {},
   "outputs": [
    {
     "name": "stdout",
     "output_type": "stream",
     "text": [
      "Feature names: ['sepal length (cm)', 'sepal width (cm)', 'petal length (cm)', 'petal width (cm)']\n",
      "Target names: ['setosa' 'versicolor' 'virginica']\n",
      "\n",
      "First 10 rows of X:\n",
      " [[5.1 3.5 1.4 0.2]\n",
      " [4.9 3.  1.4 0.2]\n",
      " [4.7 3.2 1.3 0.2]\n",
      " [4.6 3.1 1.5 0.2]\n",
      " [5.  3.6 1.4 0.2]\n",
      " [5.4 3.9 1.7 0.4]\n",
      " [4.6 3.4 1.4 0.3]\n",
      " [5.  3.4 1.5 0.2]\n",
      " [4.4 2.9 1.4 0.2]\n",
      " [4.9 3.1 1.5 0.1]]\n"
     ]
    }
   ],
   "source": [
    "from sklearn.datasets import load_iris\n",
    "iris = load_iris()\n",
    "X = iris.data\n",
    "y = iris.target\n",
    "feature_names = iris.feature_names\n",
    "target_names = iris.target_names\n",
    "print(\"Feature names:\", feature_names)\n",
    "print(\"Target names:\", target_names)\n",
    "print(\"\\nFirst 10 rows of X:\\n\", X[:10])\n",
    "\n"
   ]
  },
  {
   "cell_type": "code",
   "execution_count": 17,
   "metadata": {},
   "outputs": [
    {
     "name": "stdout",
     "output_type": "stream",
     "text": [
      "X.shape: 150\n",
      "X_train.shape: 105\n",
      "X_test.shape: 45\n",
      "y.shape: 150\n",
      "y_train.shape: 105\n",
      "y_test.shape: 45\n"
     ]
    }
   ],
   "source": [
    "from sklearn.model_selection import train_test_split\n",
    "\n",
    "# Split dataset into 70% training data and 30% testing data\n",
    "X_train, X_test, y_train, y_test = train_test_split(\n",
    "   X, y, test_size = 0.3, random_state = 1\n",
    ")\n",
    "\n",
    "print(f'X.shape: {X.shape[0]}')\n",
    "print(f'X_train.shape: {X_train.shape[0]}')\n",
    "print(f'X_test.shape: {X_test.shape[0]}')\n",
    "\n",
    "print(f'y.shape: {y.shape[0]}')\n",
    "print(f'y_train.shape: {y_train.shape[0]}')\n",
    "print(f'y_test.shape: {y_test.shape[0]}')"
   ]
  },
  {
   "cell_type": "code",
   "execution_count": 18,
   "metadata": {},
   "outputs": [
    {
     "name": "stdout",
     "output_type": "stream",
     "text": [
      "Accuracy: 0.9777777777777777\n",
      "Predictions: ['versicolor', 'virginica']\n"
     ]
    }
   ],
   "source": [
    "from sklearn.neighbors import KNeighborsClassifier\n",
    "from sklearn import metrics\n",
    "\n",
    "classifier_knn = KNeighborsClassifier(n_neighbors = 3)\n",
    "classifier_knn.fit(X_train, y_train)\n",
    "y_pred = classifier_knn.predict(X_test)\n",
    "\n",
    "# Finding accuracy by comparing actual response values (y_test) with predicted response value (y_pred)\n",
    "print(f'Accuracy: {metrics.accuracy_score(y_test, y_pred)}')\n",
    "\n",
    "# Providing prediction data and the model will make prediction out of that data\n",
    "prediction_data = [[5, 5, 3, 2], [2, 4, 3, 5]]\n",
    "\n",
    "preds = classifier_knn.predict(prediction_data)\n",
    "pred_species = [iris.target_names[p] for p in preds] \n",
    "print(f'Predictions: {pred_species}')"
   ]
  },
  {
   "cell_type": "code",
   "execution_count": 20,
   "metadata": {},
   "outputs": [
    {
     "name": "stdout",
     "output_type": "stream",
     "text": [
      "Predictions: ['setosa', 'setosa']\n"
     ]
    }
   ],
   "source": [
    "import joblib\n",
    "\n",
    "# Dump/store the model (classifier_knn)\n",
    "joblib.dump(classifier_knn, 'iris_classifier_knn.joblib')\n",
    "\n",
    "# Load/call the dumped_model (iris_classifier_knn)\n",
    "loaded_model = joblib.load('iris_classifier_knn.joblib')\n",
    "\n",
    "# Use loaded model for another prediction\n",
    "another_prediction_data = [[4, 3.5, 1.3, 1], [4.1, 2.6, 1.4, 0.3]]\n",
    "new_preds = loaded_model.predict(another_prediction_data)\n",
    "new_pred_species = [iris.target_names[p] for p in new_preds] \n",
    "print(f'Predictions: {new_pred_species}')"
   ]
  }
 ],
 "metadata": {
  "kernelspec": {
   "display_name": ".venv",
   "language": "python",
   "name": "python3"
  },
  "language_info": {
   "codemirror_mode": {
    "name": "ipython",
    "version": 3
   },
   "file_extension": ".py",
   "mimetype": "text/x-python",
   "name": "python",
   "nbconvert_exporter": "python",
   "pygments_lexer": "ipython3",
   "version": "3.12.4"
  }
 },
 "nbformat": 4,
 "nbformat_minor": 2
}
