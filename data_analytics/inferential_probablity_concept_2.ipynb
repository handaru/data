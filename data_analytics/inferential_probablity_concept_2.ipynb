{
 "cells": [
  {
   "cell_type": "markdown",
   "metadata": {},
   "source": [
    "### Law of Total Probability"
   ]
  },
  {
   "cell_type": "code",
   "execution_count": 4,
   "metadata": {},
   "outputs": [
    {
     "name": "stdout",
     "output_type": "stream",
     "text": [
      "{'standard': 0.050000000000000044, 'express': 0.09999999999999998, 'same-day': 0.15000000000000002}\n",
      "[(0, 'standard'), (1, 'express'), (2, 'same-day')]\n",
      "0.07500000000000002\n",
      "0.029999999999999992\n",
      "The probability that a customer chose express delivery given that their delivery failed is: 0.39999999999999974\n"
     ]
    }
   ],
   "source": [
    "# Define the delivery methods and their probabilities\n",
    "delivery_methods = [\"standard\", \"express\", \"same-day\"]\n",
    "delivery_probabilities = [0.6, 0.3, 0.1]\n",
    "\n",
    "# Define the delivery success rates for each method\n",
    "success_rates = {\"standard\": 0.95, \"express\": 0.9, \"same-day\": 0.85}\n",
    "\n",
    "# Calculate the probability of a delivery failing for each method\n",
    "failure_rates = {method: 1 - success_rates[method] for method in delivery_methods}\n",
    "print(failure_rates)\n",
    "\n",
    "# Calculate the total probability of a delivery failing, this step is where Law of Total Probability happen\n",
    "total_failure_prob = sum(failure_rates[j] * delivery_probabilities[i] for i, j in enumerate(delivery_methods))\n",
    "print (list(enumerate(delivery_methods)))\n",
    "print(total_failure_prob)\n",
    "\n",
    "# Calculate the probability of choosing express delivery and their delivery failing\n",
    "express_failure_prob = failure_rates[\"express\"] * delivery_probabilities[delivery_methods.index(\"express\")]\n",
    "print(express_failure_prob)\n",
    "\n",
    "# Calculate the probability of choosing express delivery given delivery failed\n",
    "express_given_failure_prob = express_failure_prob / total_failure_prob\n",
    "\n",
    "print(\"The probability that a customer chose express delivery given that their delivery failed is:\", express_given_failure_prob)"
   ]
  },
  {
   "cell_type": "markdown",
   "metadata": {},
   "source": [
    "### Bayes’ Theorem"
   ]
  },
  {
   "cell_type": "code",
   "execution_count": 2,
   "metadata": {},
   "outputs": [
    {
     "name": "stdout",
     "output_type": "stream",
     "text": [
      "The probability of having the disease given a positive test result is: 16.1 %\n"
     ]
    }
   ],
   "source": [
    "# Define the prior probability of having the disease\n",
    "p_disease = 0.01\n",
    "\n",
    "# Define the sensitivity and specificity of the medical test\n",
    "sensitivity = 0.95\n",
    "specificity = 0.95\n",
    "\n",
    "# Define the probability of a positive test result given the disease and no disease\n",
    "p_pos_given_disease = sensitivity\n",
    "p_pos_given_no_disease = 1 - specificity\n",
    "\n",
    "# Calculate the probability of a positive test result\n",
    "p_pos = p_disease * p_pos_given_disease + (1 - p_disease) * p_pos_given_no_disease\n",
    "\n",
    "# Calculate the probability of having the disease given a positive test result using Bayes' theorem\n",
    "p_disease_given_pos = p_pos_given_disease * p_disease / p_pos\n",
    "\n",
    "# Print the result\n",
    "print(\"The probability of having the disease given a positive test result is:\", round(p_disease_given_pos * 100, 2), \"%\")"
   ]
  }
 ],
 "metadata": {
  "kernelspec": {
   "display_name": ".venv",
   "language": "python",
   "name": "python3"
  },
  "language_info": {
   "codemirror_mode": {
    "name": "ipython",
    "version": 3
   },
   "file_extension": ".py",
   "mimetype": "text/x-python",
   "name": "python",
   "nbconvert_exporter": "python",
   "pygments_lexer": "ipython3",
   "version": "3.12.4"
  }
 },
 "nbformat": 4,
 "nbformat_minor": 2
}
