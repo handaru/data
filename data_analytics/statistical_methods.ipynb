{
 "cells": [
  {
   "cell_type": "code",
   "execution_count": 1,
   "metadata": {},
   "outputs": [
    {
     "name": "stdout",
     "output_type": "stream",
     "text": [
      "58.57142857142857\n",
      "40.0\n",
      "20\n",
      "0.35\n"
     ]
    }
   ],
   "source": [
    "import numpy as np\n",
    "import statistics as st\n",
    "\n",
    "dataset = np.array([20,50,10,200,30,40,60])\n",
    "\n",
    "print(np.mean(dataset))\n",
    "print(np.median(dataset))\n",
    "print(st.mode(dataset))\n",
    "print(np.ptp([0.1, 0.2, -0.15]))"
   ]
  },
  {
   "cell_type": "code",
   "execution_count": 2,
   "metadata": {},
   "outputs": [
    {
     "name": "stdout",
     "output_type": "stream",
     "text": [
      "25.0\n",
      "55.0\n",
      "30.0\n"
     ]
    }
   ],
   "source": [
    "import pandas as pd\n",
    "\n",
    "df=pd.DataFrame({'data' : dataset})\n",
    "\n",
    "Q1 = df.quantile(0.25).values[0]\n",
    "Q3 = df.quantile(0.75).values[0]\n",
    "\n",
    "IQR = Q3 - Q1\n",
    "\n",
    "print(Q1)\n",
    "print(Q3)\n",
    "print(IQR)"
   ]
  },
  {
   "cell_type": "code",
   "execution_count": 3,
   "metadata": {},
   "outputs": [
    {
     "name": "stdout",
     "output_type": "stream",
     "text": [
      "-20\n",
      "100\n"
     ]
    }
   ],
   "source": [
    "lower_bound = int((Q1 - 1.5 * IQR))\n",
    "upper_bound = int((Q3 + 1.5 * IQR))\n",
    "\n",
    "print(lower_bound)\n",
    "print(upper_bound)\n",
    "\n",
    "ouliers = df.query(\"@lower_bound >= data >= @upper_bound\")\n"
   ]
  },
  {
   "cell_type": "code",
   "execution_count": 9,
   "metadata": {},
   "outputs": [
    {
     "name": "stdout",
     "output_type": "stream",
     "text": [
      "   data\n",
      "3   200\n"
     ]
    }
   ],
   "source": [
    "print(df.query(\"(data >= @upper_bound) | (data <= @lower_bound)\"))"
   ]
  },
  {
   "cell_type": "code",
   "execution_count": 4,
   "metadata": {},
   "outputs": [
    {
     "data": {
      "text/plain": [
       "<Axes: >"
      ]
     },
     "execution_count": 4,
     "metadata": {},
     "output_type": "execute_result"
    },
    {
     "data": {
      "image/png": "[encoded data removed]",
      "text/plain": [
       "<Figure size 640x480 with 1 Axes>"
      ]
     },
     "metadata": {},
     "output_type": "display_data"
    }
   ],
   "source": [
    "df.join(ouliers, rsuffix='_ouliers').boxplot()"
   ]
  },
  {
   "cell_type": "code",
   "execution_count": 6,
   "metadata": {},
   "outputs": [
    {
     "name": "stdout",
     "output_type": "stream",
     "text": [
      "0.0325\n",
      "0.35\n",
      "0.2\n"
     ]
    }
   ],
   "source": [
    "\n",
    "print(np.var([0.1, 0.2, -0.15], ddof=1))\n",
    "\n",
    "print(np.ptp([0.1, 0.2, -0.15])) \n",
    "\n",
    "print(np.max([0.1, 0.2, -0.15]))"
   ]
  }
 ],
 "metadata": {
  "kernelspec": {
   "display_name": "dbt-env",
   "language": "python",
   "name": "python3"
  },
  "language_info": {
   "codemirror_mode": {
    "name": "ipython",
    "version": 3
   },
   "file_extension": ".py",
   "mimetype": "text/x-python",
   "name": "python",
   "nbconvert_exporter": "python",
   "pygments_lexer": "ipython3",
   "version": "3.12.4"
  }
 },
 "nbformat": 4,
 "nbformat_minor": 2
}
