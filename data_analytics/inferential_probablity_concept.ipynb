{
 "cells": [
  {
   "cell_type": "markdown",
   "metadata": {},
   "source": [
    "### Simple Random Sampling"
   ]
  },
  {
   "cell_type": "code",
   "execution_count": 15,
   "metadata": {},
   "outputs": [
    {
     "name": "stdout",
     "output_type": "stream",
     "text": [
      "[1, 2, 3, 4, 5, 6, 7, 8, 9, 10, 11, 12, 13, 14, 15, 16, 17, 18, 19, 20, 21, 22, 23, 24, 25, 26, 27, 28, 29, 30, 31, 32, 33, 34, 35, 36, 37, 38, 39, 40, 41, 42, 43, 44, 45, 46, 47, 48, 49, 50, 51, 52, 53, 54, 55, 56, 57, 58, 59, 60, 61, 62, 63, 64, 65, 66, 67, 68, 69, 70, 71, 72, 73, 74, 75, 76, 77, 78, 79, 80, 81, 82, 83, 84, 85, 86, 87, 88, 89, 90, 91, 92, 93, 94, 95, 96, 97, 98, 99, 100]\n",
      "[12, 40, 79, 87, 95]\n"
     ]
    }
   ],
   "source": [
    "import random \n",
    "\n",
    "population = list(range(1, 101)) \n",
    "\n",
    "sample_size = 5 \n",
    "simple_random_sampling = random.sample(population, sample_size) \n",
    "\n",
    "print(population)\n",
    "print(simple_random_sampling) "
   ]
  },
  {
   "cell_type": "markdown",
   "metadata": {},
   "source": [
    "### Systematic Sampling"
   ]
  },
  {
   "cell_type": "code",
   "execution_count": 18,
   "metadata": {},
   "outputs": [
    {
     "name": "stdout",
     "output_type": "stream",
     "text": [
      "[  1   2   3   4   5   6   7   8   9  10  11  12  13  14  15  16  17  18\n",
      "  19  20  21  22  23  24  25  26  27  28  29  30  31  32  33  34  35  36\n",
      "  37  38  39  40  41  42  43  44  45  46  47  48  49  50  51  52  53  54\n",
      "  55  56  57  58  59  60  61  62  63  64  65  66  67  68  69  70  71  72\n",
      "  73  74  75  76  77  78  79  80  81  82  83  84  85  86  87  88  89  90\n",
      "  91  92  93  94  95  96  97  98  99 100]\n",
      "20\n",
      "3\n",
      "[ 4 24 44 64 84]\n"
     ]
    }
   ],
   "source": [
    "import numpy as np\n",
    "\n",
    "population = np.arange(1, 101)\n",
    "\n",
    "sample_size = 5\n",
    "sampling_interval = len(population) // sample_size\n",
    "start_point = np.random.randint(0, sampling_interval)\n",
    "systematic_sample = population[start_point::sampling_interval]\n",
    "\n",
    "print(population)\n",
    "print(sampling_interval)\n",
    "print(start_point)\n",
    "print(systematic_sample)"
   ]
  },
  {
   "cell_type": "markdown",
   "metadata": {},
   "source": [
    "### Stratified Sampling"
   ]
  },
  {
   "cell_type": "code",
   "execution_count": 22,
   "metadata": {},
   "outputs": [
    {
     "name": "stdout",
     "output_type": "stream",
     "text": [
      "Train dataset:\n",
      " Sex\n",
      "male      403\n",
      "female    220\n",
      "Name: count, dtype: int64\n",
      "Test dataset:\n",
      " Sex\n",
      "male      174\n",
      "female     94\n",
      "Name: count, dtype: int64\n"
     ]
    }
   ],
   "source": [
    "import pandas as pd\n",
    "from sklearn.model_selection import train_test_split\n",
    "\n",
    "data=pd.read_csv('../datasets/titanic.csv')\n",
    "\n",
    "stratify_by = 'Sex'\n",
    "\n",
    "train, test = train_test_split(data, test_size=0.3, stratify=data['Sex'])\n",
    "\n",
    "print(\"Train dataset:\\n\", train[stratify_by].value_counts())\n",
    "print(\"Test dataset:\\n\", test[stratify_by].value_counts())"
   ]
  },
  {
   "cell_type": "markdown",
   "metadata": {},
   "source": [
    "### Cluster & Multistage Sampling"
   ]
  },
  {
   "cell_type": "code",
   "execution_count": 33,
   "metadata": {},
   "outputs": [
    {
     "name": "stdout",
     "output_type": "stream",
     "text": [
      "1\n",
      "[[29, 33, 35, 37], [48, 50, 52, 61], [64, 68, 27]]\n",
      "[[33, 35], [50, 52], [68, 27]]\n"
     ]
    }
   ],
   "source": [
    "import random\n",
    "\n",
    "population_data = [26, 29, 33, 35, 37, 48, 50, 52, 61, 64, 68, 27]\n",
    "cluster_size = 4\n",
    "starting_point = random.randint(0, cluster_size - 1)\n",
    "print(starting_point)\n",
    "\n",
    "# Cluster Sampling\n",
    "sampled_data = []\n",
    "for i in range(starting_point, len(population_data) - 1, cluster_size):\n",
    "    sampled_data.append(population_data[i:i + cluster_size])\n",
    "\n",
    "print(sampled_data)\n",
    "\n",
    "# Multistage Sampling\n",
    "group_cluster_size = 2\n",
    "group_starting_point = random.randint(0, group_cluster_size - 1)\n",
    "\n",
    "group_sampled_data = []\n",
    "for i in sampled_data: \n",
    "    for j in range(starting_point, len(i) - 1, group_cluster_size):\n",
    "        group_sampled_data.append(i[j:j + group_cluster_size])\n",
    "\n",
    "print(group_sampled_data)"
   ]
  },
  {
   "cell_type": "markdown",
   "metadata": {},
   "source": [
    "### Probability Distribution"
   ]
  },
  {
   "cell_type": "code",
   "execution_count": 24,
   "metadata": {},
   "outputs": [
    {
     "name": "stdout",
     "output_type": "stream",
     "text": [
      "[ 0.63521412 -0.88171905 -0.33443708 -0.08172779  1.28658446  0.51386103\n",
      " -1.31614122 -0.69784467  0.87562853  0.14076946 -0.40864493 -2.33218228\n",
      "  0.92472891 -1.29911858  2.94744311  0.8957685   0.89428448 -0.99737527\n",
      " -0.79247699 -1.20482337 -0.44202936 -0.48757671 -1.79848186 -0.56449924\n",
      "  0.0814919  -0.2101437  -0.03820191  0.74587437  0.34136679  1.32034757\n",
      " -1.53243604 -0.01813795  0.2320686  -0.0521686  -0.75431654  1.30854407\n",
      "  1.05892533  0.46312802 -0.18563401 -1.01531116 -0.48696803  0.34809796\n",
      " -0.31030818  0.89724978 -0.34109962 -2.16662426  0.5801402   0.36837598\n",
      " -1.594476   -1.34084223  1.27464544  1.4117457   1.92988284  0.85153675\n",
      " -0.9955862  -0.20121654 -0.18468944  1.11464549  0.21635777 -0.63502484\n",
      " -1.08866806  0.06824596  0.342913    0.27526515 -0.55165531  0.74930193\n",
      "  0.98196875  1.14715925  1.02190883  0.43678122  0.03389522  1.00233512\n",
      " -0.12300006 -0.99898386  0.07158306 -0.24351729  1.81615346  0.50299548\n",
      "  0.8710412  -0.84288336 -0.70317701 -0.65720262 -0.39989905 -0.80161239\n",
      "  0.32288093  0.01277897 -0.67850624 -1.08098524 -0.45946251 -0.02526024\n",
      " -0.89221582  1.5150754  -0.26163576 -0.85495461  0.73173675  1.93683673\n",
      " -0.63874862  0.55101023 -0.82217907  0.8621297   1.82690928  0.8331794\n",
      " -1.21111694 -0.01801188 -0.18889145  0.27966482  0.35100035 -0.86495073\n",
      " -1.13456939  0.09497081  0.20151246 -1.72354983 -0.91060561  1.04688969\n",
      "  0.38684461 -0.9185391   0.45712828  0.77092986 -0.38332045  1.16386667\n",
      "  0.99457415 -0.25459103  1.1415574  -1.43232898 -1.64273454  0.13340999\n",
      "  0.16298321 -0.13771671  1.00284038  1.9147958   0.22525956 -1.34106319\n",
      "  0.39346634  1.33053294  0.93556202  0.93193523 -0.12349899 -0.8772538\n",
      "  0.5721722   0.9606526   2.97843124  0.51115301 -0.1595648  -1.53860646\n",
      "  0.31478852  0.26195888  0.308104   -0.9849924   0.40916305  0.3072026\n",
      "  0.86207485  0.63779959 -0.88955455  0.56327319 -1.92548508 -1.60416576\n",
      " -0.8714019   0.29858538  0.0265623   0.63794296  1.12393789  1.16028695\n",
      "  0.05684179 -0.37127929  1.79546503  0.12440409 -0.91890534 -0.10563322\n",
      " -0.68707673  0.12871334 -0.12830826  1.0191418   0.01047037  0.10155926\n",
      "  0.51179448  0.2089748   1.42999767 -0.52424671  0.8604541   0.94911883\n",
      " -0.17951685  0.30950001 -0.83442136  0.03891956 -0.05942282 -0.70627182\n",
      "  1.70944919  0.1726727   0.4286848   1.09200027 -0.30144154  0.70666295\n",
      " -1.05443564 -1.20279809 -1.04042741 -0.3660274  -2.20700482 -1.87214014\n",
      " -0.22947912 -2.34698553 -0.95996086  1.74583703 -0.91699356 -1.55066922\n",
      "  1.89249989 -0.24363973  0.287615    0.46070782  0.65515487  0.21224012\n",
      " -0.64751756 -0.93658276  0.87442158  0.6433773  -1.65967878  0.61857383\n",
      " -1.39138057  0.43402947  1.45534673 -0.02441394 -1.56909969  0.08517478\n",
      " -0.18596379  2.20586476 -0.22553133 -0.48615239 -0.19071298  0.83425953\n",
      "  1.27216776 -0.14071282 -1.1087496   0.9481253   0.5477102   0.91398342\n",
      " -0.37245759  1.72837407  1.55593189  0.91441303 -0.66697126 -1.37988345\n",
      "  2.41453622 -1.97189692 -1.32984706 -0.43993156 -2.52268059 -0.28020002\n",
      "  0.99157832  0.87744723  0.21179835 -0.27422192 -1.02293737 -0.58353906\n",
      " -0.35684101 -0.61340199 -0.73567078  0.81414379 -0.18397681  1.61973792\n",
      " -0.66457861 -0.89655319 -0.21391365 -0.23378872 -1.85280125  1.34482179\n",
      " -0.47199962  0.12620525 -0.25284546  0.53332997 -1.26358721  1.3008025\n",
      " -0.31415162  0.30362331  0.1007893   0.45122289  2.49612628  1.27589308\n",
      " -0.58581783 -0.70879728 -0.78271327 -0.93240619 -0.26672519 -0.21376123\n",
      " -0.55830901  1.06669428 -1.50668076  0.88690606 -1.32938445  0.17176337\n",
      "  0.037984   -0.77562763  0.4657656   0.29736512 -0.18299354  0.13310044\n",
      "  0.40394544 -0.84440288 -1.44254674 -1.20412872 -0.13545319  0.03675584\n",
      " -0.71502188  1.19733002  1.42560889  0.75625323  0.23226774  0.70118625\n",
      " -0.59400992  1.8141268  -0.84624326 -1.2266837  -0.52388587 -1.31439613\n",
      "  0.41021548  1.7992628  -1.18503133 -0.42187413  0.99918599 -0.70559834\n",
      "  1.29535217  0.69377438  0.73168576 -1.34760103 -0.81759553 -1.15155625\n",
      " -1.0042765   1.18430205  1.1102079   0.29269241  1.25221136 -1.20923843\n",
      " -1.96592198 -0.60185063 -0.47471476  0.6919164  -0.93869929  0.62336327\n",
      " -1.16024512 -0.80162248 -1.09270213  1.67996236 -1.30203478  0.95176901\n",
      " -1.31238136  0.14570948  0.80224962  1.58972785  0.39772155 -1.41739153\n",
      "  0.30280002  1.12709893  0.97575208 -0.27306258  0.64718465 -0.46367978\n",
      " -1.15473278 -0.22535697  0.19222283 -1.86214493  2.51086871  0.88348618\n",
      " -0.39677111  0.41721315  1.79938679 -0.36132195 -0.22358366 -0.2071013\n",
      "  0.76338794 -1.3768903  -0.18252176  1.56096855 -1.0685636   1.97518671\n",
      "  0.26463222  0.89537393 -1.06946742 -0.34957563 -0.57177177  1.15742521\n",
      " -1.08323945  0.19701193  0.55321543  0.18765351 -1.47034923  2.48915496\n",
      " -0.30673325  1.78828941  0.734272    0.1894232   2.07931554  0.56343957\n",
      "  1.84987391 -1.35136986  1.3375109  -0.4696287  -1.25426807 -0.07100096\n",
      " -0.60762245 -0.88103322 -0.82760058 -0.46851067  0.90624008 -0.27873355\n",
      " -1.46361189 -1.23168757  0.06221729 -0.12321663 -1.70375168  1.50191463\n",
      " -1.92745632 -0.19105608 -0.07525732  0.65943168 -0.86027768  1.14338637\n",
      "  0.29706301  0.06833918  2.17649069 -0.33775576 -0.81829599  1.35022854\n",
      " -0.99566252 -2.33441833  0.88134036  0.2663271   0.26988462 -0.22543515\n",
      " -0.36213616  0.14675744  1.48984592  1.97425203  0.19028547 -1.11690041\n",
      "  0.09449374 -1.67897895 -0.02038506 -0.01231071 -1.11808259  0.28670247\n",
      " -0.31070991  0.12654076 -0.76476129  0.53759852  1.56674037 -0.95184795\n",
      "  0.94063358 -1.27758342 -1.33260789 -0.17950096 -1.02192886  0.46463769\n",
      "  0.97367017  0.16253413  0.34959155 -0.06253921 -0.41525355  0.51118076\n",
      "  0.836138    1.33475564 -0.80778628  0.17228023 -0.38453511  0.80017529\n",
      "  0.81575171 -0.74400032  0.91456425  1.38719095  0.14237975  0.4330211\n",
      " -2.24344983  0.29594793  0.20207808  0.31261633  1.25108606 -0.11922213\n",
      "  0.58338637  0.39259691 -0.24584269  1.83992417  0.18306936  0.54270457\n",
      "  0.42817868  0.04736354 -0.16791825  0.74551922 -0.64882226  0.27815099\n",
      "  0.0297051   0.7250114   0.38813414 -0.03634718 -0.90639184 -0.93597689\n",
      " -1.08657758  1.55149141 -0.44911006  0.59608117  0.53553228 -0.02171148\n",
      " -0.62109663 -1.58588605]\n"
     ]
    },
    {
     "data": {
      "image/png": "[encoded data removed]",
      "text/plain": [
       "<Figure size 640x480 with 1 Axes>"
      ]
     },
     "metadata": {},
     "output_type": "display_data"
    }
   ],
   "source": [
    "import numpy as np\n",
    "import matplotlib.pyplot as plt\n",
    "\n",
    "\n",
    "samples = np.random.normal(0, 1, 500)\n",
    "print(samples)\n",
    "\n",
    "plt.hist(samples)\n",
    "plt.show()\n"
   ]
  },
  {
   "cell_type": "markdown",
   "metadata": {},
   "source": [
    "### Empirical Probability\n",
    "Calculate the empirical probability of flipping a coin and tails up"
   ]
  },
  {
   "cell_type": "code",
   "execution_count": 20,
   "metadata": {},
   "outputs": [
    {
     "name": "stdout",
     "output_type": "stream",
     "text": [
      "[1 1 0 1 0 1 1 1 0 1 0 0 1 1 0 0 1 0 1 1 1 0 0 0 1 0 1 1 0 0 0 1 0 1 1 0 0\n",
      " 1 1 1 0 1 0 0 0 0 0 0 1 1 1 1 1 0 1 0 1 1 1 1 1 0 1 0 1 1 1 0 1 0 1 0 0 1\n",
      " 1 0 0 1 0 0 1 0 1 1 0 1 0 0 0 1 0 1 0 0 1 1 1 0 1 0 1 1 1 0 0 1 0 0 0 0 0\n",
      " 1 1 0 1 0 1 0 1 0 1 0 1 0 0 0 1 0 1 0 1 0 0 1 0 1 1 1 1 0 0 0 1 1 0 1 1 0\n",
      " 1 0 1 1 0 1 1 0 0 1 0 0 0 1 0 0 0 0 0 1 0 0 1 1 0 0 1 1 1 1 1 1 1 1 0 0 1\n",
      " 0 1 0 1 0 0 1 0 1 1 0 1 0 0 1 0 0 0 1 1 1 1 1 1 1 0 0 1 0 1 1 1 1 0 0 0 1\n",
      " 0 0 0 0 0 1 1 1 0 1 1 0 1 1 1 1 0 0 1 0 1 0 1 0 1 1 0 0 1 0 1 1 0 1 1 1 0\n",
      " 1 1 0 0 0 0 1 0 1 0 0 1 0 0 0 1 1 1 1 0 1 1 1 1 0 0 1 0 1 0 1 1 0 1 0 0 0\n",
      " 1 0 0 1 0 0 1 0 0 1 0 1 1 1 0 1 0 1 0 1 0 0 0 1 0 1 0 0 1 0 0 1 0 0 0 0 0\n",
      " 1 0 1 0 1 0 0 1 0 1 0 1 1 1 0 1 0 0 1 0 0 1 1 1 0 0 1 0 1 0 0 0 0 0 0 1 0\n",
      " 1 1 0 0 1 0 0 0 0 0 1 0 0 0 0 1 1 0 1 1 1 0 0 0 0 1 0 1 1 1 0 0 0 0 1 0 1\n",
      " 1 1 1 1 0 1 0 0 1 0 0 0 0 1 1 0 0 1 1 0 1 1 0 0 0 1 1 0 0 0 1 0 1 0 0 0 0\n",
      " 0 0 0 0 1 0 1 1 0 1 0 0 0 0 0 0 1 0 0 1 0 0 1 0 1 0 1 1 0 0 1 0 0 1 0 0 1\n",
      " 0 0 0 0 0 0 1 1 1 0 0 0 0 0 1 0 0 0 0 0 1 0 1 0 1 0 0 1 1 1 0 1 1 1 1 0 0\n",
      " 0 1 1 1 1 1 1 1 0 1 0 0 0 0 1 0 0 0 1 1 1 1 0 1 1 0 0 1 0 0 1 0 1 0 0 1 1\n",
      " 1 1 1 1 1 0 0 0 0 1 0 1 1 1 1 1 1 0 0 1 0 0 0 0 0 0 0 0 1 1 0 1 1 0 0 1 1\n",
      " 1 1 0 1 1 1 0 0 1 0 0 1 0 1 1 1 1 1 0 0 0 1 1 0 1 1 0 0 1 1 1 1 0 1 1 1 1\n",
      " 1 0 1 1 1 1 0 1 1 0 1 0 0 0 0 1 1 0 0 0 0 1 0 0 1 1 0 0 1 1 0 1 1 0 0 0 1\n",
      " 1 0 1 1 0 1 1 1 1 1 1 0 0 0 0 1 0 0 0 1 1 0 1 1 0 1 1 1 1 0 0 0 1 0 1 0 0\n",
      " 0 1 1 0 0 0 1 0 1 0 1 0 0 1 1 1 0 1 1 0 0 0 1 0 1 0 1 0 1 0 0 1 0 0 0 0 0\n",
      " 0 1 1 0 0 1 1 0 0 1 1 1 1 1 1 1 0 1 1 0 1 0 0 1 0 0 1 1 0 1 1 0 1 0 1 0 0\n",
      " 0 1 1 1 1 1 1 0 1 1 1 1 0 0 1 1 1 1 0 0 0 0 1 0 1 1 0 0 0 1 1 0 1 0 1 1 1\n",
      " 1 1 1 0 1 1 0 1 1 1 0 1 1 0 1 1 0 1 1 1 1 1 1 0 0 0 1 0 1 1 1 1 1 1 1 1 1\n",
      " 0 1 0 1 1 0 0 0 0 0 1 1 1 1 1 1 0 1 1 0 1 1 1 1 0 1 1 0 1 1 1 0 0 0 1 1 1\n",
      " 1 1 0 0 0 0 1 1 1 1 0 0 0 0 0 0 0 1 0 1 1 1 0 1 0 0 1 0 0 1 1 0 0 1 0 0 1\n",
      " 0 0 1 1 1 0 1 0 0 1 0 1 1 0 0 0 0 0 1 0 1 0 1 1 1 1 0 1 0 1 1 1 1 1 1 0 1\n",
      " 1 0 1 0 0 0 0 1 1 0 1 1 0 1 1 0 1 1 1 0 1 1 1 1 1 0 0 0 0 0 0 0 1 0 0 1 1\n",
      " 0]\n",
      "0.492\n"
     ]
    }
   ],
   "source": [
    "import numpy as np\n",
    "\n",
    "coin_flips = np.random.randint(0, 2, 1000)\n",
    "tails_count = np.sum(coin_flips == 0)\n",
    "empirical_probability = tails_count / 1000\n",
    "\n",
    "print(coin_flips)\n",
    "print(empirical_probability)\n"
   ]
  },
  {
   "cell_type": "markdown",
   "metadata": {},
   "source": [
    "### Conditional Probability\n",
    "Calculate the conditional probability of drawing a red card from a standard deck of cards, given that the card is a face card"
   ]
  },
  {
   "cell_type": "code",
   "execution_count": 11,
   "metadata": {},
   "outputs": [
    {
     "name": "stdout",
     "output_type": "stream",
     "text": [
      "0.25\n"
     ]
    }
   ],
   "source": [
    "num_face_cards = 12\n",
    "num_red_face_cards = 3\n",
    "\n",
    "# Probability of drawing a face card\n",
    "probability_face_card = num_face_cards / 52\n",
    "\n",
    "# Probability of drawing a red face card\n",
    "probability_red_face_card = num_red_face_cards / 52\n",
    "\n",
    "probability_red_given_face = probability_red_face_card / probability_face_card\n",
    "\n",
    "print(probability_red_given_face)\n"
   ]
  }
 ],
 "metadata": {
  "kernelspec": {
   "display_name": "dbt-env",
   "language": "python",
   "name": "python3"
  },
  "language_info": {
   "codemirror_mode": {
    "name": "ipython",
    "version": 3
   },
   "file_extension": ".py",
   "mimetype": "text/x-python",
   "name": "python",
   "nbconvert_exporter": "python",
   "pygments_lexer": "ipython3",
   "version": "3.12.4"
  }
 },
 "nbformat": 4,
 "nbformat_minor": 2
}
