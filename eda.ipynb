{
 "cells": [
  {
   "cell_type": "code",
   "execution_count": 2,
   "metadata": {},
   "outputs": [],
   "source": [
    "# Importing all libraries that needed\n",
    "import numpy as np\n",
    "import pandas as pd\n",
    "import matplotlib.pyplot as plt\n",
    "import seaborn as sns"
   ]
  },
  {
   "cell_type": "code",
   "execution_count": 6,
   "metadata": {},
   "outputs": [],
   "source": [
    "# Read from csv data source\n",
    "customer_data = pd.read_csv('datasets/customer-data.csv')"
   ]
  },
  {
   "cell_type": "code",
   "execution_count": 6,
   "metadata": {},
   "outputs": [
    {
     "data": {
      "text/html": [
       "<div>\n",
       "<style scoped>\n",
       "    .dataframe tbody tr th:only-of-type {\n",
       "        vertical-align: middle;\n",
       "    }\n",
       "\n",
       "    .dataframe tbody tr th {\n",
       "        vertical-align: top;\n",
       "    }\n",
       "\n",
       "    .dataframe thead th {\n",
       "        text-align: right;\n",
       "    }\n",
       "</style>\n",
       "<table border=\"1\" class=\"dataframe\">\n",
       "  <thead>\n",
       "    <tr style=\"text-align: right;\">\n",
       "      <th></th>\n",
       "      <th>id</th>\n",
       "      <th>age</th>\n",
       "      <th>gender</th>\n",
       "      <th>race</th>\n",
       "      <th>driving_experience</th>\n",
       "      <th>education</th>\n",
       "      <th>income</th>\n",
       "      <th>credit_score</th>\n",
       "      <th>vehicle_ownership</th>\n",
       "      <th>vehicle_year</th>\n",
       "      <th>married</th>\n",
       "      <th>children</th>\n",
       "      <th>postal_code</th>\n",
       "      <th>annual_mileage</th>\n",
       "      <th>vehicle_type</th>\n",
       "      <th>speeding_violations</th>\n",
       "      <th>DUIs</th>\n",
       "      <th>past_accidents</th>\n",
       "      <th>outcome</th>\n",
       "    </tr>\n",
       "  </thead>\n",
       "  <tbody>\n",
       "    <tr>\n",
       "      <th>0</th>\n",
       "      <td>569520</td>\n",
       "      <td>65+</td>\n",
       "      <td>female</td>\n",
       "      <td>majority</td>\n",
       "      <td>0-9y</td>\n",
       "      <td>high school</td>\n",
       "      <td>upper class</td>\n",
       "      <td>0.629027</td>\n",
       "      <td>True</td>\n",
       "      <td>after 2015</td>\n",
       "      <td>False</td>\n",
       "      <td>True</td>\n",
       "      <td>10238</td>\n",
       "      <td>12000.0</td>\n",
       "      <td>sedan</td>\n",
       "      <td>0</td>\n",
       "      <td>0</td>\n",
       "      <td>0</td>\n",
       "      <td>False</td>\n",
       "    </tr>\n",
       "    <tr>\n",
       "      <th>1</th>\n",
       "      <td>750365</td>\n",
       "      <td>16-25</td>\n",
       "      <td>male</td>\n",
       "      <td>majority</td>\n",
       "      <td>0-9y</td>\n",
       "      <td>none</td>\n",
       "      <td>poverty</td>\n",
       "      <td>0.357757</td>\n",
       "      <td>False</td>\n",
       "      <td>before 2015</td>\n",
       "      <td>False</td>\n",
       "      <td>False</td>\n",
       "      <td>10238</td>\n",
       "      <td>16000.0</td>\n",
       "      <td>sedan</td>\n",
       "      <td>0</td>\n",
       "      <td>0</td>\n",
       "      <td>0</td>\n",
       "      <td>True</td>\n",
       "    </tr>\n",
       "    <tr>\n",
       "      <th>2</th>\n",
       "      <td>199901</td>\n",
       "      <td>16-25</td>\n",
       "      <td>female</td>\n",
       "      <td>majority</td>\n",
       "      <td>0-9y</td>\n",
       "      <td>high school</td>\n",
       "      <td>working class</td>\n",
       "      <td>0.493146</td>\n",
       "      <td>True</td>\n",
       "      <td>before 2015</td>\n",
       "      <td>False</td>\n",
       "      <td>False</td>\n",
       "      <td>10238</td>\n",
       "      <td>11000.0</td>\n",
       "      <td>sedan</td>\n",
       "      <td>0</td>\n",
       "      <td>0</td>\n",
       "      <td>0</td>\n",
       "      <td>False</td>\n",
       "    </tr>\n",
       "    <tr>\n",
       "      <th>3</th>\n",
       "      <td>478866</td>\n",
       "      <td>16-25</td>\n",
       "      <td>male</td>\n",
       "      <td>majority</td>\n",
       "      <td>0-9y</td>\n",
       "      <td>university</td>\n",
       "      <td>working class</td>\n",
       "      <td>0.206013</td>\n",
       "      <td>True</td>\n",
       "      <td>before 2015</td>\n",
       "      <td>False</td>\n",
       "      <td>True</td>\n",
       "      <td>32765</td>\n",
       "      <td>11000.0</td>\n",
       "      <td>sedan</td>\n",
       "      <td>0</td>\n",
       "      <td>0</td>\n",
       "      <td>0</td>\n",
       "      <td>False</td>\n",
       "    </tr>\n",
       "    <tr>\n",
       "      <th>4</th>\n",
       "      <td>731664</td>\n",
       "      <td>26-39</td>\n",
       "      <td>male</td>\n",
       "      <td>majority</td>\n",
       "      <td>10-19y</td>\n",
       "      <td>none</td>\n",
       "      <td>working class</td>\n",
       "      <td>0.388366</td>\n",
       "      <td>True</td>\n",
       "      <td>before 2015</td>\n",
       "      <td>False</td>\n",
       "      <td>False</td>\n",
       "      <td>32765</td>\n",
       "      <td>12000.0</td>\n",
       "      <td>sedan</td>\n",
       "      <td>2</td>\n",
       "      <td>0</td>\n",
       "      <td>1</td>\n",
       "      <td>True</td>\n",
       "    </tr>\n",
       "  </tbody>\n",
       "</table>\n",
       "</div>"
      ],
      "text/plain": [
       "       id    age  gender      race driving_experience    education  \\\n",
       "0  569520    65+  female  majority               0-9y  high school   \n",
       "1  750365  16-25    male  majority               0-9y         none   \n",
       "2  199901  16-25  female  majority               0-9y  high school   \n",
       "3  478866  16-25    male  majority               0-9y   university   \n",
       "4  731664  26-39    male  majority             10-19y         none   \n",
       "\n",
       "          income  credit_score  vehicle_ownership vehicle_year  married  \\\n",
       "0    upper class      0.629027               True   after 2015    False   \n",
       "1        poverty      0.357757              False  before 2015    False   \n",
       "2  working class      0.493146               True  before 2015    False   \n",
       "3  working class      0.206013               True  before 2015    False   \n",
       "4  working class      0.388366               True  before 2015    False   \n",
       "\n",
       "   children  postal_code  annual_mileage vehicle_type  speeding_violations  \\\n",
       "0      True        10238         12000.0        sedan                    0   \n",
       "1     False        10238         16000.0        sedan                    0   \n",
       "2     False        10238         11000.0        sedan                    0   \n",
       "3      True        32765         11000.0        sedan                    0   \n",
       "4     False        32765         12000.0        sedan                    2   \n",
       "\n",
       "   DUIs  past_accidents  outcome  \n",
       "0     0               0    False  \n",
       "1     0               0     True  \n",
       "2     0               0    False  \n",
       "3     0               0    False  \n",
       "4     0               1     True  "
      ]
     },
     "execution_count": 6,
     "metadata": {},
     "output_type": "execute_result"
    }
   ],
   "source": [
    "# Get 5 of head rows\n",
    "customer_data.head()"
   ]
  },
  {
   "cell_type": "code",
   "execution_count": 7,
   "metadata": {},
   "outputs": [
    {
     "data": {
      "text/plain": [
       "(10000, 19)"
      ]
     },
     "execution_count": 7,
     "metadata": {},
     "output_type": "execute_result"
    }
   ],
   "source": [
    "# Retun tuple of number of rows and columns \n",
    "customer_data.shape"
   ]
  },
  {
   "cell_type": "code",
   "execution_count": 8,
   "metadata": {},
   "outputs": [
    {
     "name": "stdout",
     "output_type": "stream",
     "text": [
      "<class 'pandas.core.frame.DataFrame'>\n",
      "RangeIndex: 10000 entries, 0 to 9999\n",
      "Data columns (total 19 columns):\n",
      " #   Column               Non-Null Count  Dtype  \n",
      "---  ------               --------------  -----  \n",
      " 0   id                   10000 non-null  int64  \n",
      " 1   age                  10000 non-null  object \n",
      " 2   gender               10000 non-null  object \n",
      " 3   race                 10000 non-null  object \n",
      " 4   driving_experience   10000 non-null  object \n",
      " 5   education            10000 non-null  object \n",
      " 6   income               10000 non-null  object \n",
      " 7   credit_score         9018 non-null   float64\n",
      " 8   vehicle_ownership    10000 non-null  bool   \n",
      " 9   vehicle_year         10000 non-null  object \n",
      " 10  married              10000 non-null  bool   \n",
      " 11  children             10000 non-null  bool   \n",
      " 12  postal_code          10000 non-null  int64  \n",
      " 13  annual_mileage       9043 non-null   float64\n",
      " 14  vehicle_type         10000 non-null  object \n",
      " 15  speeding_violations  10000 non-null  int64  \n",
      " 16  DUIs                 10000 non-null  int64  \n",
      " 17  past_accidents       10000 non-null  int64  \n",
      " 18  outcome              10000 non-null  bool   \n",
      "dtypes: bool(4), float64(2), int64(5), object(8)\n",
      "memory usage: 1.2+ MB\n"
     ]
    }
   ],
   "source": [
    "# Return info (column, NN count, Data Type) on dataset\n",
    "customer_data.info()"
   ]
  },
  {
   "cell_type": "code",
   "execution_count": 9,
   "metadata": {},
   "outputs": [
    {
     "data": {
      "text/html": [
       "<div>\n",
       "<style scoped>\n",
       "    .dataframe tbody tr th:only-of-type {\n",
       "        vertical-align: middle;\n",
       "    }\n",
       "\n",
       "    .dataframe tbody tr th {\n",
       "        vertical-align: top;\n",
       "    }\n",
       "\n",
       "    .dataframe thead th {\n",
       "        text-align: right;\n",
       "    }\n",
       "</style>\n",
       "<table border=\"1\" class=\"dataframe\">\n",
       "  <thead>\n",
       "    <tr style=\"text-align: right;\">\n",
       "      <th></th>\n",
       "      <th>id</th>\n",
       "      <th>credit_score</th>\n",
       "      <th>postal_code</th>\n",
       "      <th>annual_mileage</th>\n",
       "      <th>speeding_violations</th>\n",
       "      <th>DUIs</th>\n",
       "      <th>past_accidents</th>\n",
       "    </tr>\n",
       "  </thead>\n",
       "  <tbody>\n",
       "    <tr>\n",
       "      <th>count</th>\n",
       "      <td>10000.000000</td>\n",
       "      <td>9018.000000</td>\n",
       "      <td>10000.000000</td>\n",
       "      <td>9043.000000</td>\n",
       "      <td>10000.000000</td>\n",
       "      <td>10000.00000</td>\n",
       "      <td>10000.000000</td>\n",
       "    </tr>\n",
       "    <tr>\n",
       "      <th>mean</th>\n",
       "      <td>500521.906800</td>\n",
       "      <td>0.515813</td>\n",
       "      <td>19864.548400</td>\n",
       "      <td>11697.003207</td>\n",
       "      <td>1.482900</td>\n",
       "      <td>0.23920</td>\n",
       "      <td>1.056300</td>\n",
       "    </tr>\n",
       "    <tr>\n",
       "      <th>std</th>\n",
       "      <td>290030.768758</td>\n",
       "      <td>0.137688</td>\n",
       "      <td>18915.613855</td>\n",
       "      <td>2818.434528</td>\n",
       "      <td>2.241966</td>\n",
       "      <td>0.55499</td>\n",
       "      <td>1.652454</td>\n",
       "    </tr>\n",
       "    <tr>\n",
       "      <th>min</th>\n",
       "      <td>101.000000</td>\n",
       "      <td>0.053358</td>\n",
       "      <td>10238.000000</td>\n",
       "      <td>2000.000000</td>\n",
       "      <td>0.000000</td>\n",
       "      <td>0.00000</td>\n",
       "      <td>0.000000</td>\n",
       "    </tr>\n",
       "    <tr>\n",
       "      <th>25%</th>\n",
       "      <td>249638.500000</td>\n",
       "      <td>0.417191</td>\n",
       "      <td>10238.000000</td>\n",
       "      <td>10000.000000</td>\n",
       "      <td>0.000000</td>\n",
       "      <td>0.00000</td>\n",
       "      <td>0.000000</td>\n",
       "    </tr>\n",
       "    <tr>\n",
       "      <th>50%</th>\n",
       "      <td>501777.000000</td>\n",
       "      <td>0.525033</td>\n",
       "      <td>10238.000000</td>\n",
       "      <td>12000.000000</td>\n",
       "      <td>0.000000</td>\n",
       "      <td>0.00000</td>\n",
       "      <td>0.000000</td>\n",
       "    </tr>\n",
       "    <tr>\n",
       "      <th>75%</th>\n",
       "      <td>753974.500000</td>\n",
       "      <td>0.618312</td>\n",
       "      <td>32765.000000</td>\n",
       "      <td>14000.000000</td>\n",
       "      <td>2.000000</td>\n",
       "      <td>0.00000</td>\n",
       "      <td>2.000000</td>\n",
       "    </tr>\n",
       "    <tr>\n",
       "      <th>max</th>\n",
       "      <td>999976.000000</td>\n",
       "      <td>0.960819</td>\n",
       "      <td>92101.000000</td>\n",
       "      <td>22000.000000</td>\n",
       "      <td>22.000000</td>\n",
       "      <td>6.00000</td>\n",
       "      <td>15.000000</td>\n",
       "    </tr>\n",
       "  </tbody>\n",
       "</table>\n",
       "</div>"
      ],
      "text/plain": [
       "                  id  credit_score   postal_code  annual_mileage  \\\n",
       "count   10000.000000   9018.000000  10000.000000     9043.000000   \n",
       "mean   500521.906800      0.515813  19864.548400    11697.003207   \n",
       "std    290030.768758      0.137688  18915.613855     2818.434528   \n",
       "min       101.000000      0.053358  10238.000000     2000.000000   \n",
       "25%    249638.500000      0.417191  10238.000000    10000.000000   \n",
       "50%    501777.000000      0.525033  10238.000000    12000.000000   \n",
       "75%    753974.500000      0.618312  32765.000000    14000.000000   \n",
       "max    999976.000000      0.960819  92101.000000    22000.000000   \n",
       "\n",
       "       speeding_violations         DUIs  past_accidents  \n",
       "count         10000.000000  10000.00000    10000.000000  \n",
       "mean              1.482900      0.23920        1.056300  \n",
       "std               2.241966      0.55499        1.652454  \n",
       "min               0.000000      0.00000        0.000000  \n",
       "25%               0.000000      0.00000        0.000000  \n",
       "50%               0.000000      0.00000        0.000000  \n",
       "75%               2.000000      0.00000        2.000000  \n",
       "max              22.000000      6.00000       15.000000  "
      ]
     },
     "execution_count": 9,
     "metadata": {},
     "output_type": "execute_result"
    }
   ],
   "source": [
    "# Return Statistics Infos\n",
    "customer_data.describe()"
   ]
  },
  {
   "cell_type": "code",
   "execution_count": 3,
   "metadata": {},
   "outputs": [
    {
     "data": {
      "text/plain": [
       "id                       0\n",
       "age                      0\n",
       "gender                   0\n",
       "race                     0\n",
       "driving_experience       0\n",
       "education                0\n",
       "income                   0\n",
       "credit_score           982\n",
       "vehicle_ownership        0\n",
       "vehicle_year             0\n",
       "married                  0\n",
       "children                 0\n",
       "postal_code              0\n",
       "annual_mileage         957\n",
       "vehicle_type             0\n",
       "speeding_violations      0\n",
       "DUIs                     0\n",
       "past_accidents           0\n",
       "outcome                  0\n",
       "dtype: int64"
      ]
     },
     "execution_count": 3,
     "metadata": {},
     "output_type": "execute_result"
    }
   ],
   "source": [
    "# Display number missing values per column\n",
    "customer_data.isna().sum()"
   ]
  },
  {
   "cell_type": "code",
   "execution_count": 7,
   "metadata": {},
   "outputs": [
    {
     "data": {
      "text/plain": [
       "income\n",
       "middle class     0.523659\n",
       "poverty          0.348331\n",
       "upper class      0.613827\n",
       "working class    0.431929\n",
       "Name: credit_score, dtype: float64"
      ]
     },
     "execution_count": 7,
     "metadata": {},
     "output_type": "execute_result"
    }
   ],
   "source": [
    "# Check the mean credit score for each income group\n",
    "customer_data.groupby(by='income')['credit_score'].mean()"
   ]
  },
  {
   "cell_type": "code",
   "execution_count": 8,
   "metadata": {},
   "outputs": [],
   "source": [
    "# Input missing values with mean credit score for each income group\n",
    "def input_creditscore(income_classes):\n",
    "    for income_class in income_classes:      \n",
    "        # subset of dataframe to use as filter\n",
    "        filter = customer_data['income'] == income_class\n",
    "        \n",
    "        # calculate the mean for each income group\n",
    "        mean = customer_data[customer_data['income'] == income_class]['credit_score'].mean()\n",
    "        \n",
    "        # input the missing values with mean of credit score for each income group\n",
    "        customer_data.loc[filter,\"credit_score\"] = customer_data.loc[filter,'credit_score'].fillna(mean)\n",
    "\n",
    "income_groups = ['poverty','upper class','middle class','working class']\n",
    "input_creditscore(income_groups)"
   ]
  },
  {
   "cell_type": "code",
   "execution_count": 6,
   "metadata": {},
   "outputs": [
    {
     "data": {
      "text/plain": [
       "id                       0\n",
       "age                      0\n",
       "gender                   0\n",
       "race                     0\n",
       "driving_experience       0\n",
       "education                0\n",
       "income                   0\n",
       "credit_score             0\n",
       "vehicle_ownership        0\n",
       "vehicle_year             0\n",
       "married                  0\n",
       "children                 0\n",
       "postal_code              0\n",
       "annual_mileage         957\n",
       "vehicle_type             0\n",
       "speeding_violations      0\n",
       "DUIs                     0\n",
       "past_accidents           0\n",
       "outcome                  0\n",
       "dtype: int64"
      ]
     },
     "execution_count": 6,
     "metadata": {},
     "output_type": "execute_result"
    }
   ],
   "source": [
    "# check for missing values\n",
    "customer_data.isnull().sum()"
   ]
  },
  {
   "cell_type": "code",
   "execution_count": 9,
   "metadata": {},
   "outputs": [
    {
     "name": "stderr",
     "output_type": "stream",
     "text": [
      "/var/folders/9c/b2pc4s7s5lzf03szjw3x5tk40000gn/T/ipykernel_1523/96365246.py:3: FutureWarning: A value is trying to be set on a copy of a DataFrame or Series through chained assignment using an inplace method.\n",
      "The behavior will change in pandas 3.0. This inplace method will never work because the intermediate object on which we are setting values always behaves as a copy.\n",
      "\n",
      "For example, when doing 'df[col].method(value, inplace=True)', try using 'df.method({col: value}, inplace=True)' or df[col] = df[col].method(value) instead, to perform the operation inplace on the original object.\n",
      "\n",
      "\n",
      "  customer_data['annual_mileage'].fillna(mean_mileage,inplace=True)\n"
     ]
    }
   ],
   "source": [
    "customer_data.groupby(by='driving_experience')['annual_mileage'].mean()\n",
    "mean_mileage = customer_data['annual_mileage'].mean()\n",
    "customer_data['annual_mileage'].fillna(mean_mileage,inplace=True)"
   ]
  },
  {
   "cell_type": "code",
   "execution_count": 9,
   "metadata": {},
   "outputs": [
    {
     "data": {
      "text/plain": [
       "id                     0\n",
       "age                    0\n",
       "gender                 0\n",
       "race                   0\n",
       "driving_experience     0\n",
       "education              0\n",
       "income                 0\n",
       "credit_score           0\n",
       "vehicle_ownership      0\n",
       "vehicle_year           0\n",
       "married                0\n",
       "children               0\n",
       "postal_code            0\n",
       "annual_mileage         0\n",
       "vehicle_type           0\n",
       "speeding_violations    0\n",
       "DUIs                   0\n",
       "past_accidents         0\n",
       "outcome                0\n",
       "dtype: int64"
      ]
     },
     "execution_count": 9,
     "metadata": {},
     "output_type": "execute_result"
    }
   ],
   "source": [
    "customer_data.isna().sum()"
   ]
  },
  {
   "cell_type": "code",
   "execution_count": 10,
   "metadata": {},
   "outputs": [
    {
     "name": "stdout",
     "output_type": "stream",
     "text": [
      "<class 'pandas.core.frame.DataFrame'>\n",
      "RangeIndex: 10000 entries, 0 to 9999\n",
      "Data columns (total 17 columns):\n",
      " #   Column               Non-Null Count  Dtype  \n",
      "---  ------               --------------  -----  \n",
      " 0   age                  10000 non-null  object \n",
      " 1   gender               10000 non-null  object \n",
      " 2   race                 10000 non-null  object \n",
      " 3   driving_experience   10000 non-null  object \n",
      " 4   education            10000 non-null  object \n",
      " 5   income               10000 non-null  object \n",
      " 6   credit_score         10000 non-null  float64\n",
      " 7   vehicle_ownership    10000 non-null  bool   \n",
      " 8   vehicle_year         10000 non-null  object \n",
      " 9   married              10000 non-null  bool   \n",
      " 10  children             10000 non-null  bool   \n",
      " 11  annual_mileage       10000 non-null  float64\n",
      " 12  vehicle_type         10000 non-null  object \n",
      " 13  speeding_violations  10000 non-null  int64  \n",
      " 14  DUIs                 10000 non-null  int64  \n",
      " 15  past_accidents       10000 non-null  int64  \n",
      " 16  outcome              10000 non-null  bool   \n",
      "dtypes: bool(4), float64(2), int64(3), object(8)\n",
      "memory usage: 1.0+ MB\n"
     ]
    }
   ],
   "source": [
    "# Delete id and postal_code columns\n",
    "customer_data.drop([\"id\",\"postal_code\"],axis=1,inplace=True)\n",
    "\n",
    "customer_data.info()"
   ]
  },
  {
   "cell_type": "code",
   "execution_count": 18,
   "metadata": {},
   "outputs": [
    {
     "name": "stdout",
     "output_type": "stream",
     "text": [
      "Count of customer for gender wise:\n",
      " gender\n",
      "female    5010\n",
      "male      4990\n",
      "Name: count, dtype: int64\n",
      "\n"
     ]
    },
    {
     "data": {
      "image/png": "[encoded data removed]",
      "text/plain": [
       "<Figure size 640x480 with 1 Axes>"
      ]
     },
     "metadata": {},
     "output_type": "display_data"
    }
   ],
   "source": [
    "# Check count for each category in the gender column\n",
    "print(f'Count of customer for gender wise:\\n {customer_data['gender'].value_counts()}\\n')\n",
    "\n",
    "# Create a countplot to visualize the count of each category in the gender column\n",
    "ax=sns.countplot(hue='gender',data=customer_data,x='gender', stat='count', palette='Set2')\n",
    "for container in ax.containers:\n",
    "    ax.bar_label(container)\n",
    "\n",
    "plt.title('Number of Clients per Gender')\n",
    "plt.ylabel('Number of Clients')\n",
    "plt.show()"
   ]
  },
  {
   "cell_type": "code",
   "execution_count": 21,
   "metadata": {},
   "outputs": [
    {
     "name": "stdout",
     "output_type": "stream",
     "text": [
      "Count of customer for gender education:\n",
      " education\n",
      "high school    4157\n",
      "university     3928\n",
      "none           1915\n",
      "Name: count, dtype: int64\n",
      "\n"
     ]
    },
    {
     "data": {
      "image/png": "[encoded data removed]",
      "text/plain": [
       "<Figure size 600x600 with 1 Axes>"
      ]
     },
     "metadata": {},
     "output_type": "display_data"
    }
   ],
   "source": [
    "# Categorical orderes: education column\n",
    "\n",
    "# Check count for each category in the education column\n",
    "print(f'Count of customer for gender education:\\n {customer_data['education'].value_counts()}\\n')\n",
    "\n",
    "# Visualize with pie chart\n",
    "# Define plot size\n",
    "plt.figure(figsize=[6,6])\n",
    "\n",
    "# Define column to use\n",
    "data = customer_data[\"education\"].value_counts(normalize=True)\n",
    "\n",
    "# Define labels\n",
    "labels = np.unique(customer_data['education'])\n",
    "\n",
    "# Define color palette\n",
    "colors = sns.color_palette('Set2')\n",
    "\n",
    "# Create pie chart\n",
    "plt.pie(data,labels=labels,colors=colors, autopct='%.0f%%')\n",
    "plt.title('Proportion of Clients by Education Group')\n",
    "plt.show()\n"
   ]
  }
 ],
 "metadata": {
  "kernelspec": {
   "display_name": "dbt-env",
   "language": "python",
   "name": "python3"
  },
  "language_info": {
   "codemirror_mode": {
    "name": "ipython",
    "version": 3
   },
   "file_extension": ".py",
   "mimetype": "text/x-python",
   "name": "python",
   "nbconvert_exporter": "python",
   "pygments_lexer": "ipython3",
   "version": "3.12.4"
  }
 },
 "nbformat": 4,
 "nbformat_minor": 2
}
